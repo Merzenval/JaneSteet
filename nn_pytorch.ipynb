{
 "cells": [
  {
   "cell_type": "markdown",
   "metadata": {},
   "source": [
    "# Kaggle Competition "
   ]
  },
  {
   "cell_type": "code",
   "execution_count": 1,
   "metadata": {},
   "outputs": [],
   "source": [
    "import pandas as pd\n",
    "import polars\n",
    "import numpy as np"
   ]
  },
  {
   "cell_type": "code",
   "execution_count": 2,
   "metadata": {},
   "outputs": [],
   "source": [
    "import pytorch_lightning as pl\n",
    "import torch\n",
    "from torch import nn\n",
    "from torch.utils.data import Dataset, DataLoader\n",
    "import torch.nn.functional as F"
   ]
  },
  {
   "cell_type": "code",
   "execution_count": 3,
   "metadata": {},
   "outputs": [],
   "source": [
    "train_df =  polars.read_parquet(\"data/train_data.parquet\")"
   ]
  },
  {
   "cell_type": "code",
   "execution_count": 4,
   "metadata": {},
   "outputs": [
    {
     "data": {
      "text/plain": [
       "(23871848, 101)"
      ]
     },
     "execution_count": 4,
     "metadata": {},
     "output_type": "execute_result"
    }
   ],
   "source": [
    "train_df.shape"
   ]
  },
  {
   "cell_type": "code",
   "execution_count": 3,
   "metadata": {},
   "outputs": [],
   "source": [
    "valid_df =  polars.read_parquet(\"data/validate_data.parquet\")"
   ]
  },
  {
   "cell_type": "code",
   "execution_count": 4,
   "metadata": {},
   "outputs": [
    {
     "data": {
      "text/plain": [
       "(1082224, 101)"
      ]
     },
     "execution_count": 4,
     "metadata": {},
     "output_type": "execute_result"
    }
   ],
   "source": [
    "valid_df.shape"
   ]
  },
  {
   "cell_type": "code",
   "execution_count": 5,
   "metadata": {},
   "outputs": [],
   "source": [
    "feature_cols = [\"symbol_id\", \"time_id\"] +  [f\"feature_{idx:02d}\" for idx in range(79)]+ [f\"responder_{idx}_lag_1\" for idx in range(9)]\n",
    "\n",
    "#select target values\n",
    "target_cols = [\"responder_6\"]\n",
    "\n",
    "# select the weight values\n",
    "weight_cols = [\"weight\"]"
   ]
  },
  {
   "cell_type": "code",
   "execution_count": 6,
   "metadata": {},
   "outputs": [],
   "source": [
    "#finsh\n",
    "# work fine with sample data\n",
    "# work fine with all train data set and validation data set\n",
    "class CustomDataset(Dataset):\n",
    "    def __init__(self, dataframe, accerlerator):\n",
    "        # Store each part of the dataframe that needed as a tensor\n",
    "        self.features = torch.FloatTensor(dataframe.select(feature_cols).to_numpy()).to(accerlerator)\n",
    "        self.labels = torch.FloatTensor(dataframe.select(target_cols).to_numpy()).to(accerlerator)\n",
    "        self.weights = torch.FloatTensor(dataframe.select(weight_cols).to_numpy()).to(accerlerator)\n",
    "\n",
    "\n",
    "    def __len__(self):\n",
    "        # Returb the length of the dataset\n",
    "        return len(self.labels)\n",
    "\n",
    "    def __getitem__(self, idx):\n",
    "        # return the data at a given index\n",
    "        # x = all features defined in the feature_cols\n",
    "        # y = the target values that needed to be predicted definded in the target_cols\n",
    "        # w = the weight values for calculating the loss defined in the weight_cols\n",
    "        x = self.features[idx]\n",
    "        y = self.labels[idx]\n",
    "        w = self.weights[idx]\n",
    "        return x, y, w"
   ]
  },
  {
   "cell_type": "code",
   "execution_count": 7,
   "metadata": {},
   "outputs": [],
   "source": [
    "dataset = CustomDataset(valid_df,accerlerator=\"cpu\")"
   ]
  },
  {
   "cell_type": "code",
   "execution_count": 11,
   "metadata": {},
   "outputs": [
    {
     "data": {
      "text/plain": [
       "(tensor([ 1.0000e+00,  0.0000e+00,  3.8219e-01,  4.5869e-01,  5.4435e-01,\n",
       "          9.2550e-02, -9.1184e-01,  1.3097e-01, -9.0515e-01, -3.0100e-01,\n",
       "         -1.8795e-01,  1.1000e+01,  7.0000e+00,  7.6000e+01, -9.2035e-01,\n",
       "          2.4371e+00, -7.5225e-02, -4.6374e-01, -5.0446e-01, -4.4867e-01,\n",
       "         -1.6828e+00, -1.3096e+00,  1.3573e+00, -7.4740e-03,  1.1079e+00,\n",
       "          3.7456e-01,  1.0593e+00,  1.1514e+00, -1.9860e+00, -4.6567e-01,\n",
       "          8.2513e-01, -7.5664e-01, -7.3525e-01, -6.6193e-03,  7.8764e-01,\n",
       "         -2.9642e-02,  4.9586e-01,  5.5345e-01, -1.5847e+00, -5.8390e-02,\n",
       "          8.6217e-02,  5.1014e-02,  5.1481e-01,  7.5502e-02, -1.1175e-01,\n",
       "         -6.5288e-01, -1.4616e-01, -1.5985e+00,  1.1257e+00, -4.9231e-02,\n",
       "          4.2109e-01, -1.8579e-01, -1.4100e-01,  1.5677e+00, -1.9486e-01,\n",
       "          1.3818e-01, -1.1379e+00,  1.6245e-01, -1.8266e+00,  1.2302e+00,\n",
       "         -2.9080e-02,  1.2527e+00,  4.3781e-01,  1.0275e+00, -3.4252e-01,\n",
       "         -4.2132e-01, -4.2403e-01, -1.0539e+00, -1.8733e+00, -7.0992e-01,\n",
       "          1.8267e+00, -1.9934e-02, -5.7278e-01,  2.3317e+00, -2.0950e-01,\n",
       "         -2.9440e-02, -4.1781e-02,  8.5936e-01,  6.4123e-01, -5.1073e-02,\n",
       "         -3.2598e-02,  1.2061e+00,  4.5863e-01, -1.0150e-01,  5.0520e-02,\n",
       "          1.8345e-02, -5.5355e-01, -1.0886e+00, -5.5329e-01, -1.7624e+00]),\n",
       " tensor([-0.3393]),\n",
       " tensor([2.6199]))"
      ]
     },
     "execution_count": 11,
     "metadata": {},
     "output_type": "execute_result"
    }
   ],
   "source": [
    "dataset[1]"
   ]
  },
  {
   "cell_type": "code",
   "execution_count": 9,
   "metadata": {},
   "outputs": [],
   "source": [
    "# finish\n",
    "#have to test with train_data loader and val_dataloader\n",
    "# the __init and setup seem to work fine\n",
    "class DataModule(pl.LightningDataModule):\n",
    "    def __init__(self, dataframe, batch_size, valid_df=None, accelerator='cuda'):\n",
    "        super().__init__()\n",
    "        self.dataframe = dataframe\n",
    "        self.batch_size = batch_size\n",
    "        self.dates = dataframe[\"date_id\"].unique().to_list()\n",
    "        self.accelerator = accelerator\n",
    "        self.train_dataset = None\n",
    "        self.valid_df = valid_df\n",
    "        self.val_dataset = None\n",
    "\n",
    "    def setup(self, fold=0, N_fold=5, stage=None):\n",
    "        selected_dates = [date for ii, date in enumerate(self.dates) if ii % N_fold != fold]  # leave one section out\n",
    "        df_train = self.dataframe.filter(polars.col(\"date_id\").is_in(selected_dates))\n",
    "        \n",
    "        if df_train.is_empty():\n",
    "            raise ValueError(\"Training dataset is empty after filtering.\")\n",
    "        \n",
    "        self.train_dataset = CustomDataset(df_train, self.accelerator)\n",
    "        \n",
    "        if self.valid_df is not None:\n",
    "            df_valid = self.valid_df\n",
    "            if df_valid.is_empty():\n",
    "                raise ValueError(\"Validation dataset is empty.\")\n",
    "            self.val_dataset = CustomDataset(df_valid, self.accelerator)\n",
    "\n",
    "    def train_dataloader(self, Pw=False, n_workers=0):\n",
    "        if self.train_dataset is None or len(self.train_dataset) == 0:\n",
    "            raise ValueError(\"Training dataset is empty.\")\n",
    "        return DataLoader(self.train_dataset, batch_size=self.batch_size, persistent_workers=Pw, shuffle=True, num_workers=n_workers)\n",
    "\n",
    "    def val_dataloader(self, Pw=False, n_workers=0):\n",
    "        if self.val_dataset is None or len(self.val_dataset) == 0:\n",
    "            raise ValueError(\"Validation dataset is empty.\")\n",
    "        return DataLoader(self.val_dataset, batch_size=self.batch_size, persistent_workers=Pw, shuffle=False, num_workers=n_workers)"
   ]
  },
  {
   "cell_type": "code",
   "execution_count": 10,
   "metadata": {},
   "outputs": [],
   "source": [
    "# def r2_val(y_true, y_pred, weights, axis=None):\n",
    "#     \"\"\"\n",
    "#     Calculate the weighted R^2 value.\n",
    "    \n",
    "#     Parameters:\n",
    "#     y_true (np.ndarray): True values.\n",
    "#     y_pred (np.ndarray): Predicted values.\n",
    "#     weights (np.ndarray): Weights for each sample.\n",
    "#     axis (int, optional): Axis along which to calculate the weighted R^2 value.\n",
    "    \n",
    "#     Returns:\n",
    "#     float: Weighted R^2 value.\n",
    "#     \"\"\"\n",
    "#     # Ensure weights are normalized\n",
    "#     # weights = weights / np.sum(weights, axis=axis, keepdims=True)\n",
    "    \n",
    "#     # Calculate weighted mean of y_true\n",
    "#     y_true_mean = np.average(y_true, weights=weights, axis=axis)\n",
    "    \n",
    "#     # Calculate total sum of squares (SST)\n",
    "#     sst = np.sum(weights * (y_true - y_true_mean)**2, axis=axis)\n",
    "    \n",
    "#     # Calculate residual sum of squares (SSR)\n",
    "#     ssr = np.sum(weights * (y_true - y_pred)**2, axis=axis)\n",
    "    \n",
    "#     # Calculate R^2 value\n",
    "#     r2 = 1 - (ssr / sst)\n",
    "    \n",
    "#     return r2"
   ]
  },
  {
   "cell_type": "code",
   "execution_count": 11,
   "metadata": {},
   "outputs": [],
   "source": [
    "# finish\n",
    "class MyModel(pl.LightningModule):\n",
    "    def __init__(self, input_dim, hidden_dims, dropouts, lr, weight_decay):\n",
    "        super().__init__()\n",
    "        self.save_hyperparameters()\n",
    "        layers = []\n",
    "        in_dim = input_dim\n",
    "        for i, hidden_dim in enumerate(hidden_dims):\n",
    "            layers.append(nn.BatchNorm1d(in_dim))\n",
    "            if i > 0:\n",
    "                layers.append(nn.SiLU())\n",
    "            if i < len(dropouts):\n",
    "                layers.append(nn.Dropout(dropouts[i]))\n",
    "            layers.append(nn.Linear(in_dim, hidden_dim))\n",
    "            # layers.append(nn.ReLU())\n",
    "            in_dim = hidden_dim\n",
    "        layers.append(nn.Linear(in_dim, 1))  # 输出层\n",
    "        layers.append(nn.Tanh())\n",
    "        self.model = nn.Sequential(*layers)\n",
    "        self.lr = lr\n",
    "        self.weight_decay = weight_decay\n",
    "        self.validation_step_outputs = []\n",
    "    \n",
    "    def forward(self, x):\n",
    "        return 5 * self.model(x).squeeze(-1)\n",
    "    \n",
    "    def training_step(self, batch):\n",
    "        x, y, w = batch\n",
    "        y_hat = self(x)\n",
    "        y = y.view(-1)\n",
    "        loss = F.mse_loss(y_hat, y, reduction='none') * w  \n",
    "        loss = loss.mean()\n",
    "        self.log('train_loss', loss, on_step=False, on_epoch=True, batch_size=x.size(0))\n",
    "        return loss\n",
    "\n",
    "    def validation_step(self, batch):\n",
    "        x, y, w = batch\n",
    "        y_hat = self(x)\n",
    "        y = y.view(-1)\n",
    "        loss = F.mse_loss(y_hat, y, reduction='none') * w\n",
    "        loss = loss.mean()\n",
    "        self.log('val_loss', loss, on_step=False, on_epoch=True, batch_size=x.size(0))\n",
    "        self.validation_step_outputs.append((y_hat, y, w))\n",
    "        return loss\n",
    "\n",
    "    # def on_validation_epoch_end(self):\n",
    "    #     \"\"\"Calculate validation WRMSE at the end of the epoch.\"\"\"\n",
    "    #     y = torch.cat([x[1] for x in self.validation_step_outputs]).cpu().numpy()\n",
    "    #     if self.trainer.sanity_checking:\n",
    "    #         prob = torch.cat([x[0] for x in self.validation_step_outputs]).cpu().numpy()\n",
    "    #     else:\n",
    "    #         prob = torch.cat([x[0] for x in self.validation_step_outputs]).cpu().numpy()\n",
    "    #         weights = torch.cat([x[2] for x in self.validation_step_outputs]).cpu().numpy()\n",
    "    #         # Ensure the shapes match by specifying the axis\n",
    "    #         val_r_square = r2_val(y, prob, weights, axis=0)\n",
    "    #         self.log(\"val_r_square\", val_r_square, prog_bar=True, on_step=False, on_epoch=True)\n",
    "    #     self.validation_step_outputs.clear()\n",
    "\n",
    "    def configure_optimizers(self):\n",
    "        optimizer = torch.optim.Adam(self.parameters(), lr=self.lr, weight_decay=self.weight_decay)\n",
    "        scheduler = torch.optim.lr_scheduler.ReduceLROnPlateau(optimizer, mode='min', factor=0.5, patience=5,\n",
    "                                                               verbose=True)\n",
    "        return {\n",
    "            'optimizer': optimizer,\n",
    "            'lr_scheduler': {\n",
    "                'scheduler': scheduler,\n",
    "                'monitor': 'val_loss',\n",
    "            }\n",
    "        }\n",
    "\n",
    "    def on_train_epoch_end(self):\n",
    "        if self.trainer.sanity_checking:\n",
    "            return\n",
    "        epoch = self.trainer.current_epoch\n",
    "        metrics = {k: v.item() if isinstance(v, torch.Tensor) else v for k, v in self.trainer.logged_metrics.items()}\n",
    "        formatted_metrics = {k: f\"{v:.5f}\" for k, v in metrics.items()}\n",
    "        print(f\"Epoch {epoch}: {formatted_metrics}\")\n"
   ]
  },
  {
   "cell_type": "code",
   "execution_count": 12,
   "metadata": {},
   "outputs": [],
   "source": [
    "from pytorch_lightning.callbacks import EarlyStopping, ModelCheckpoint, Timer"
   ]
  },
  {
   "cell_type": "code",
   "execution_count": 13,
   "metadata": {},
   "outputs": [],
   "source": [
    "n_hidden = [512, 512, 256]\n",
    "dropout = [0.1, 0.1]\n",
    "lr = 1e-3\n",
    "max_epochs = 100\n",
    "weight_decay = 5e-4\n",
    "patience = 25\n",
    "# try to increase batch size \n",
    "# 512   4.40\n",
    "# 1024  3.30  have some bottle neck during dataloader # try to fix it \n",
    "# 8192 is fine\n",
    "batch_size = 1024\n",
    "pw = False # set to false when numloader = 0\n",
    "num_loader = 0\n",
    "if num_loader > 0: pw = True # set to false when numloader > 0"
   ]
  },
  {
   "cell_type": "code",
   "execution_count": 14,
   "metadata": {},
   "outputs": [],
   "source": [
    "data_module = DataModule(train_df, batch_size = batch_size , valid_df= valid_df, accelerator= \"cpu\") \n",
    "data_module.setup(1,1)\n",
    "del train_df\n",
    "input_dim = data_module.train_dataset.features.shape[1]"
   ]
  },
  {
   "cell_type": "code",
   "execution_count": 15,
   "metadata": {},
   "outputs": [
    {
     "name": "stderr",
     "output_type": "stream",
     "text": [
      "GPU available: True (cuda), used: True\n",
      "TPU available: False, using: 0 TPU cores\n",
      "HPU available: False, using: 0 HPUs\n",
      "You are using a CUDA device ('NVIDIA GeForce RTX 4050 Laptop GPU') that has Tensor Cores. To properly utilize them, you should set `torch.set_float32_matmul_precision('medium' | 'high')` which will trade-off precision for performance. For more details, read https://pytorch.org/docs/stable/generated/torch.set_float32_matmul_precision.html#torch.set_float32_matmul_precision\n",
      "LOCAL_RANK: 0 - CUDA_VISIBLE_DEVICES: [0]\n",
      "c:\\Users\\Asus\\anaconda3\\Lib\\site-packages\\torch\\optim\\lr_scheduler.py:62: UserWarning: The verbose parameter is deprecated. Please use get_last_lr() to access the learning rate.\n",
      "  warnings.warn(\n",
      "\n",
      "  | Name  | Type       | Params | Mode \n",
      "---------------------------------------------\n",
      "0 | model | Sequential | 443 K  | train\n",
      "---------------------------------------------\n",
      "443 K     Trainable params\n",
      "0         Non-trainable params\n",
      "443 K     Total params\n",
      "1.772     Total estimated model params size (MB)\n",
      "13        Modules in train mode\n",
      "0         Modules in eval mode\n"
     ]
    },
    {
     "data": {
      "application/vnd.jupyter.widget-view+json": {
       "model_id": "f122263928b6400392157ebfd8aa1341",
       "version_major": 2,
       "version_minor": 0
      },
      "text/plain": [
       "Sanity Checking: |          | 0/? [00:00<?, ?it/s]"
      ]
     },
     "metadata": {},
     "output_type": "display_data"
    },
    {
     "name": "stderr",
     "output_type": "stream",
     "text": [
      "c:\\Users\\Asus\\anaconda3\\Lib\\site-packages\\pytorch_lightning\\trainer\\connectors\\data_connector.py:425: The 'val_dataloader' does not have many workers which may be a bottleneck. Consider increasing the value of the `num_workers` argument` to `num_workers=15` in the `DataLoader` to improve performance.\n",
      "c:\\Users\\Asus\\anaconda3\\Lib\\site-packages\\pytorch_lightning\\trainer\\connectors\\data_connector.py:425: The 'train_dataloader' does not have many workers which may be a bottleneck. Consider increasing the value of the `num_workers` argument` to `num_workers=15` in the `DataLoader` to improve performance.\n"
     ]
    },
    {
     "data": {
      "application/vnd.jupyter.widget-view+json": {
       "model_id": "02927277b66344ff9bedccf70c0df951",
       "version_major": 2,
       "version_minor": 0
      },
      "text/plain": [
       "Training: |          | 0/? [00:00<?, ?it/s]"
      ]
     },
     "metadata": {},
     "output_type": "display_data"
    },
    {
     "data": {
      "application/vnd.jupyter.widget-view+json": {
       "model_id": "c846a6b88f264f94b7c124bdb26eb5b7",
       "version_major": 2,
       "version_minor": 0
      },
      "text/plain": [
       "Validation: |          | 0/? [00:00<?, ?it/s]"
      ]
     },
     "metadata": {},
     "output_type": "display_data"
    },
    {
     "name": "stdout",
     "output_type": "stream",
     "text": [
      "Epoch 0: {'val_loss': '1.13350', 'train_loss': '1.58756'}\n"
     ]
    },
    {
     "data": {
      "application/vnd.jupyter.widget-view+json": {
       "model_id": "c8a894f280854fa38e577eb4ca773faa",
       "version_major": 2,
       "version_minor": 0
      },
      "text/plain": [
       "Validation: |          | 0/? [00:00<?, ?it/s]"
      ]
     },
     "metadata": {},
     "output_type": "display_data"
    },
    {
     "name": "stdout",
     "output_type": "stream",
     "text": [
      "Epoch 1: {'val_loss': '1.13217', 'train_loss': '1.58113'}\n"
     ]
    },
    {
     "data": {
      "application/vnd.jupyter.widget-view+json": {
       "model_id": "ce666af8d2204f3da58860f2cd1d6147",
       "version_major": 2,
       "version_minor": 0
      },
      "text/plain": [
       "Validation: |          | 0/? [00:00<?, ?it/s]"
      ]
     },
     "metadata": {},
     "output_type": "display_data"
    },
    {
     "name": "stdout",
     "output_type": "stream",
     "text": [
      "Epoch 2: {'val_loss': '1.13193', 'train_loss': '1.58103'}\n"
     ]
    },
    {
     "data": {
      "application/vnd.jupyter.widget-view+json": {
       "model_id": "e8012315742e4b9cbaa080badedf4777",
       "version_major": 2,
       "version_minor": 0
      },
      "text/plain": [
       "Validation: |          | 0/? [00:00<?, ?it/s]"
      ]
     },
     "metadata": {},
     "output_type": "display_data"
    },
    {
     "name": "stdout",
     "output_type": "stream",
     "text": [
      "Epoch 3: {'val_loss': '1.13166', 'train_loss': '1.58075'}\n"
     ]
    },
    {
     "data": {
      "application/vnd.jupyter.widget-view+json": {
       "model_id": "6042b273b5f748b79fc49f9ade828bd1",
       "version_major": 2,
       "version_minor": 0
      },
      "text/plain": [
       "Validation: |          | 0/? [00:00<?, ?it/s]"
      ]
     },
     "metadata": {},
     "output_type": "display_data"
    },
    {
     "name": "stdout",
     "output_type": "stream",
     "text": [
      "Epoch 4: {'val_loss': '1.13143', 'train_loss': '1.58088'}\n"
     ]
    },
    {
     "data": {
      "application/vnd.jupyter.widget-view+json": {
       "model_id": "fbd609dc86f64cd19870e0030de583ec",
       "version_major": 2,
       "version_minor": 0
      },
      "text/plain": [
       "Validation: |          | 0/? [00:00<?, ?it/s]"
      ]
     },
     "metadata": {},
     "output_type": "display_data"
    },
    {
     "name": "stdout",
     "output_type": "stream",
     "text": [
      "Epoch 5: {'val_loss': '1.13416', 'train_loss': '1.58076'}\n"
     ]
    },
    {
     "data": {
      "application/vnd.jupyter.widget-view+json": {
       "model_id": "750a55c8144e480b97f0d89c07ef42c1",
       "version_major": 2,
       "version_minor": 0
      },
      "text/plain": [
       "Validation: |          | 0/? [00:00<?, ?it/s]"
      ]
     },
     "metadata": {},
     "output_type": "display_data"
    },
    {
     "name": "stdout",
     "output_type": "stream",
     "text": [
      "Epoch 6: {'val_loss': '1.13359', 'train_loss': '1.58083'}\n"
     ]
    },
    {
     "data": {
      "application/vnd.jupyter.widget-view+json": {
       "model_id": "1cb2386160d04f389fe541592181f512",
       "version_major": 2,
       "version_minor": 0
      },
      "text/plain": [
       "Validation: |          | 0/? [00:00<?, ?it/s]"
      ]
     },
     "metadata": {},
     "output_type": "display_data"
    },
    {
     "name": "stdout",
     "output_type": "stream",
     "text": [
      "Epoch 7: {'val_loss': '1.13325', 'train_loss': '1.58074'}\n"
     ]
    },
    {
     "data": {
      "application/vnd.jupyter.widget-view+json": {
       "model_id": "4fbc7df3ad694788946af5c8b3b4c353",
       "version_major": 2,
       "version_minor": 0
      },
      "text/plain": [
       "Validation: |          | 0/? [00:00<?, ?it/s]"
      ]
     },
     "metadata": {},
     "output_type": "display_data"
    },
    {
     "name": "stdout",
     "output_type": "stream",
     "text": [
      "Epoch 8: {'val_loss': '1.13370', 'train_loss': '1.58065'}\n"
     ]
    },
    {
     "data": {
      "application/vnd.jupyter.widget-view+json": {
       "model_id": "d95374cb20e54607bb51aea8e53ecdfe",
       "version_major": 2,
       "version_minor": 0
      },
      "text/plain": [
       "Validation: |          | 0/? [00:00<?, ?it/s]"
      ]
     },
     "metadata": {},
     "output_type": "display_data"
    },
    {
     "name": "stdout",
     "output_type": "stream",
     "text": [
      "Epoch 9: {'val_loss': '1.13333', 'train_loss': '1.58075'}\n"
     ]
    },
    {
     "data": {
      "application/vnd.jupyter.widget-view+json": {
       "model_id": "8b87bce41c1649f18da0821eaa407c08",
       "version_major": 2,
       "version_minor": 0
      },
      "text/plain": [
       "Validation: |          | 0/? [00:00<?, ?it/s]"
      ]
     },
     "metadata": {},
     "output_type": "display_data"
    },
    {
     "name": "stdout",
     "output_type": "stream",
     "text": [
      "Epoch 10: {'val_loss': '1.13399', 'train_loss': '1.58081'}\n"
     ]
    },
    {
     "data": {
      "application/vnd.jupyter.widget-view+json": {
       "model_id": "4171372526b147c3879d812a54e0acce",
       "version_major": 2,
       "version_minor": 0
      },
      "text/plain": [
       "Validation: |          | 0/? [00:00<?, ?it/s]"
      ]
     },
     "metadata": {},
     "output_type": "display_data"
    },
    {
     "name": "stdout",
     "output_type": "stream",
     "text": [
      "Epoch 11: {'val_loss': '1.13312', 'train_loss': '1.57918'}\n"
     ]
    },
    {
     "data": {
      "application/vnd.jupyter.widget-view+json": {
       "model_id": "2b1f2056203e420ca15dfbb94247711f",
       "version_major": 2,
       "version_minor": 0
      },
      "text/plain": [
       "Validation: |          | 0/? [00:00<?, ?it/s]"
      ]
     },
     "metadata": {},
     "output_type": "display_data"
    },
    {
     "name": "stdout",
     "output_type": "stream",
     "text": [
      "Epoch 12: {'val_loss': '1.13361', 'train_loss': '1.57916'}\n"
     ]
    },
    {
     "data": {
      "application/vnd.jupyter.widget-view+json": {
       "model_id": "2ff5286c150d4929a2b839668e9b611b",
       "version_major": 2,
       "version_minor": 0
      },
      "text/plain": [
       "Validation: |          | 0/? [00:00<?, ?it/s]"
      ]
     },
     "metadata": {},
     "output_type": "display_data"
    },
    {
     "name": "stdout",
     "output_type": "stream",
     "text": [
      "Epoch 13: {'val_loss': '1.13332', 'train_loss': '1.57902'}\n"
     ]
    },
    {
     "data": {
      "application/vnd.jupyter.widget-view+json": {
       "model_id": "d3731d0206b040bfb00c922690e5059f",
       "version_major": 2,
       "version_minor": 0
      },
      "text/plain": [
       "Validation: |          | 0/? [00:00<?, ?it/s]"
      ]
     },
     "metadata": {},
     "output_type": "display_data"
    },
    {
     "name": "stdout",
     "output_type": "stream",
     "text": [
      "Epoch 14: {'val_loss': '1.13143', 'train_loss': '1.57892'}\n"
     ]
    },
    {
     "data": {
      "application/vnd.jupyter.widget-view+json": {
       "model_id": "afa82674404a45efb41f2a0c3fdb9408",
       "version_major": 2,
       "version_minor": 0
      },
      "text/plain": [
       "Validation: |          | 0/? [00:00<?, ?it/s]"
      ]
     },
     "metadata": {},
     "output_type": "display_data"
    },
    {
     "name": "stdout",
     "output_type": "stream",
     "text": [
      "Epoch 15: {'val_loss': '1.13582', 'train_loss': '1.57883'}\n"
     ]
    },
    {
     "data": {
      "application/vnd.jupyter.widget-view+json": {
       "model_id": "76027444c3574b89bc46d4ec85fefa1c",
       "version_major": 2,
       "version_minor": 0
      },
      "text/plain": [
       "Validation: |          | 0/? [00:00<?, ?it/s]"
      ]
     },
     "metadata": {},
     "output_type": "display_data"
    },
    {
     "name": "stdout",
     "output_type": "stream",
     "text": [
      "Epoch 16: {'val_loss': '1.13188', 'train_loss': '1.57862'}\n"
     ]
    },
    {
     "data": {
      "application/vnd.jupyter.widget-view+json": {
       "model_id": "8d479ff539ce433096b5f617d5e601df",
       "version_major": 2,
       "version_minor": 0
      },
      "text/plain": [
       "Validation: |          | 0/? [00:00<?, ?it/s]"
      ]
     },
     "metadata": {},
     "output_type": "display_data"
    },
    {
     "name": "stdout",
     "output_type": "stream",
     "text": [
      "Epoch 17: {'val_loss': '1.13222', 'train_loss': '1.57764'}\n"
     ]
    },
    {
     "data": {
      "application/vnd.jupyter.widget-view+json": {
       "model_id": "1898e9070bfc4809b4c1de1e0f7b8da2",
       "version_major": 2,
       "version_minor": 0
      },
      "text/plain": [
       "Validation: |          | 0/? [00:00<?, ?it/s]"
      ]
     },
     "metadata": {},
     "output_type": "display_data"
    },
    {
     "name": "stdout",
     "output_type": "stream",
     "text": [
      "Epoch 18: {'val_loss': '1.13296', 'train_loss': '1.57754'}\n"
     ]
    },
    {
     "data": {
      "application/vnd.jupyter.widget-view+json": {
       "model_id": "e70ec1bfb89a412fa746dcf4d6434a1c",
       "version_major": 2,
       "version_minor": 0
      },
      "text/plain": [
       "Validation: |          | 0/? [00:00<?, ?it/s]"
      ]
     },
     "metadata": {},
     "output_type": "display_data"
    },
    {
     "name": "stdout",
     "output_type": "stream",
     "text": [
      "Epoch 19: {'val_loss': '1.13126', 'train_loss': '1.57734'}\n"
     ]
    },
    {
     "data": {
      "application/vnd.jupyter.widget-view+json": {
       "model_id": "ee54804fe082400b8933be3ff8bf9402",
       "version_major": 2,
       "version_minor": 0
      },
      "text/plain": [
       "Validation: |          | 0/? [00:00<?, ?it/s]"
      ]
     },
     "metadata": {},
     "output_type": "display_data"
    },
    {
     "name": "stdout",
     "output_type": "stream",
     "text": [
      "Epoch 20: {'val_loss': '1.13276', 'train_loss': '1.57732'}\n"
     ]
    },
    {
     "data": {
      "application/vnd.jupyter.widget-view+json": {
       "model_id": "b3874eea9d314956a4c634dce12e0d78",
       "version_major": 2,
       "version_minor": 0
      },
      "text/plain": [
       "Validation: |          | 0/? [00:00<?, ?it/s]"
      ]
     },
     "metadata": {},
     "output_type": "display_data"
    },
    {
     "name": "stdout",
     "output_type": "stream",
     "text": [
      "Epoch 21: {'val_loss': '1.13275', 'train_loss': '1.57732'}\n"
     ]
    },
    {
     "data": {
      "application/vnd.jupyter.widget-view+json": {
       "model_id": "b07f414876484f2da9981a2691f3da44",
       "version_major": 2,
       "version_minor": 0
      },
      "text/plain": [
       "Validation: |          | 0/? [00:00<?, ?it/s]"
      ]
     },
     "metadata": {},
     "output_type": "display_data"
    },
    {
     "name": "stdout",
     "output_type": "stream",
     "text": [
      "Epoch 22: {'val_loss': '1.13191', 'train_loss': '1.57745'}\n"
     ]
    },
    {
     "data": {
      "application/vnd.jupyter.widget-view+json": {
       "model_id": "9a71baa6c5d0416a9e99a78fd7d8dff9",
       "version_major": 2,
       "version_minor": 0
      },
      "text/plain": [
       "Validation: |          | 0/? [00:00<?, ?it/s]"
      ]
     },
     "metadata": {},
     "output_type": "display_data"
    },
    {
     "name": "stdout",
     "output_type": "stream",
     "text": [
      "Epoch 23: {'val_loss': '1.13106', 'train_loss': '1.57732'}\n"
     ]
    },
    {
     "data": {
      "application/vnd.jupyter.widget-view+json": {
       "model_id": "00983b64b42f48c8bf498c3ff199c06a",
       "version_major": 2,
       "version_minor": 0
      },
      "text/plain": [
       "Validation: |          | 0/? [00:00<?, ?it/s]"
      ]
     },
     "metadata": {},
     "output_type": "display_data"
    },
    {
     "name": "stdout",
     "output_type": "stream",
     "text": [
      "Epoch 24: {'val_loss': '1.13164', 'train_loss': '1.57732'}\n"
     ]
    },
    {
     "data": {
      "application/vnd.jupyter.widget-view+json": {
       "model_id": "15ee2d13c0c54e3598b30f088a39111e",
       "version_major": 2,
       "version_minor": 0
      },
      "text/plain": [
       "Validation: |          | 0/? [00:00<?, ?it/s]"
      ]
     },
     "metadata": {},
     "output_type": "display_data"
    },
    {
     "name": "stdout",
     "output_type": "stream",
     "text": [
      "Epoch 25: {'val_loss': '1.13291', 'train_loss': '1.57714'}\n"
     ]
    },
    {
     "data": {
      "application/vnd.jupyter.widget-view+json": {
       "model_id": "b38807c4b36f4156a9f6bf9398b16d35",
       "version_major": 2,
       "version_minor": 0
      },
      "text/plain": [
       "Validation: |          | 0/? [00:00<?, ?it/s]"
      ]
     },
     "metadata": {},
     "output_type": "display_data"
    },
    {
     "name": "stdout",
     "output_type": "stream",
     "text": [
      "Epoch 26: {'val_loss': '1.13396', 'train_loss': '1.57711'}\n"
     ]
    },
    {
     "data": {
      "application/vnd.jupyter.widget-view+json": {
       "model_id": "300458ed3c9b4afeaeef5b362f648324",
       "version_major": 2,
       "version_minor": 0
      },
      "text/plain": [
       "Validation: |          | 0/? [00:00<?, ?it/s]"
      ]
     },
     "metadata": {},
     "output_type": "display_data"
    },
    {
     "name": "stdout",
     "output_type": "stream",
     "text": [
      "Epoch 27: {'val_loss': '1.13366', 'train_loss': '1.57718'}\n"
     ]
    },
    {
     "data": {
      "application/vnd.jupyter.widget-view+json": {
       "model_id": "3886825af0d44ccbb3bcaee0c5882722",
       "version_major": 2,
       "version_minor": 0
      },
      "text/plain": [
       "Validation: |          | 0/? [00:00<?, ?it/s]"
      ]
     },
     "metadata": {},
     "output_type": "display_data"
    },
    {
     "name": "stdout",
     "output_type": "stream",
     "text": [
      "Epoch 28: {'val_loss': '1.13285', 'train_loss': '1.57711'}\n"
     ]
    },
    {
     "data": {
      "application/vnd.jupyter.widget-view+json": {
       "model_id": "5f2c5604480443099863c1cc2cf3f034",
       "version_major": 2,
       "version_minor": 0
      },
      "text/plain": [
       "Validation: |          | 0/? [00:00<?, ?it/s]"
      ]
     },
     "metadata": {},
     "output_type": "display_data"
    },
    {
     "name": "stdout",
     "output_type": "stream",
     "text": [
      "Epoch 29: {'val_loss': '1.13151', 'train_loss': '1.57713'}\n"
     ]
    },
    {
     "data": {
      "application/vnd.jupyter.widget-view+json": {
       "model_id": "f5f103a50a2a4295a9955cb7a0edb70e",
       "version_major": 2,
       "version_minor": 0
      },
      "text/plain": [
       "Validation: |          | 0/? [00:00<?, ?it/s]"
      ]
     },
     "metadata": {},
     "output_type": "display_data"
    },
    {
     "name": "stdout",
     "output_type": "stream",
     "text": [
      "Epoch 30: {'val_loss': '1.13211', 'train_loss': '1.57642'}\n"
     ]
    },
    {
     "data": {
      "application/vnd.jupyter.widget-view+json": {
       "model_id": "f0a5534d262a40a984f25fda5a7574a4",
       "version_major": 2,
       "version_minor": 0
      },
      "text/plain": [
       "Validation: |          | 0/? [00:00<?, ?it/s]"
      ]
     },
     "metadata": {},
     "output_type": "display_data"
    },
    {
     "name": "stdout",
     "output_type": "stream",
     "text": [
      "Epoch 31: {'val_loss': '1.13350', 'train_loss': '1.57634'}\n"
     ]
    },
    {
     "data": {
      "application/vnd.jupyter.widget-view+json": {
       "model_id": "5177beab23ec45dabd34c7d5b3b60e1c",
       "version_major": 2,
       "version_minor": 0
      },
      "text/plain": [
       "Validation: |          | 0/? [00:00<?, ?it/s]"
      ]
     },
     "metadata": {},
     "output_type": "display_data"
    },
    {
     "name": "stdout",
     "output_type": "stream",
     "text": [
      "Epoch 32: {'val_loss': '1.13159', 'train_loss': '1.57619'}\n"
     ]
    },
    {
     "data": {
      "application/vnd.jupyter.widget-view+json": {
       "model_id": "05443e77dc1f4bc3912d048612dcfdd6",
       "version_major": 2,
       "version_minor": 0
      },
      "text/plain": [
       "Validation: |          | 0/? [00:00<?, ?it/s]"
      ]
     },
     "metadata": {},
     "output_type": "display_data"
    },
    {
     "name": "stdout",
     "output_type": "stream",
     "text": [
      "Epoch 33: {'val_loss': '1.13337', 'train_loss': '1.57621'}\n"
     ]
    },
    {
     "data": {
      "application/vnd.jupyter.widget-view+json": {
       "model_id": "2c04d5827780496b9e5b45229b627c38",
       "version_major": 2,
       "version_minor": 0
      },
      "text/plain": [
       "Validation: |          | 0/? [00:00<?, ?it/s]"
      ]
     },
     "metadata": {},
     "output_type": "display_data"
    },
    {
     "name": "stdout",
     "output_type": "stream",
     "text": [
      "Epoch 34: {'val_loss': '1.13265', 'train_loss': '1.57615'}\n"
     ]
    },
    {
     "data": {
      "application/vnd.jupyter.widget-view+json": {
       "model_id": "baec0186d5934bf4bb98646cf0c249a5",
       "version_major": 2,
       "version_minor": 0
      },
      "text/plain": [
       "Validation: |          | 0/? [00:00<?, ?it/s]"
      ]
     },
     "metadata": {},
     "output_type": "display_data"
    },
    {
     "name": "stdout",
     "output_type": "stream",
     "text": [
      "Epoch 35: {'val_loss': '1.13270', 'train_loss': '1.57639'}\n"
     ]
    },
    {
     "data": {
      "application/vnd.jupyter.widget-view+json": {
       "model_id": "6d3ffd267b604c9c9c19f54459967e81",
       "version_major": 2,
       "version_minor": 0
      },
      "text/plain": [
       "Validation: |          | 0/? [00:00<?, ?it/s]"
      ]
     },
     "metadata": {},
     "output_type": "display_data"
    },
    {
     "name": "stdout",
     "output_type": "stream",
     "text": [
      "Epoch 36: {'val_loss': '1.13220', 'train_loss': '1.57562'}\n"
     ]
    },
    {
     "data": {
      "application/vnd.jupyter.widget-view+json": {
       "model_id": "2a3bc5b6bc3e4e8eadb249ed0308a15b",
       "version_major": 2,
       "version_minor": 0
      },
      "text/plain": [
       "Validation: |          | 0/? [00:00<?, ?it/s]"
      ]
     },
     "metadata": {},
     "output_type": "display_data"
    },
    {
     "name": "stdout",
     "output_type": "stream",
     "text": [
      "Epoch 37: {'val_loss': '1.13267', 'train_loss': '1.57569'}\n"
     ]
    },
    {
     "data": {
      "application/vnd.jupyter.widget-view+json": {
       "model_id": "2fe202a01b644667b7bb9310ffbb3e01",
       "version_major": 2,
       "version_minor": 0
      },
      "text/plain": [
       "Validation: |          | 0/? [00:00<?, ?it/s]"
      ]
     },
     "metadata": {},
     "output_type": "display_data"
    },
    {
     "name": "stdout",
     "output_type": "stream",
     "text": [
      "Epoch 38: {'val_loss': '1.13262', 'train_loss': '1.57561'}\n"
     ]
    },
    {
     "data": {
      "application/vnd.jupyter.widget-view+json": {
       "model_id": "2112ce1f9f9c4d7896d0c74731dae2f5",
       "version_major": 2,
       "version_minor": 0
      },
      "text/plain": [
       "Validation: |          | 0/? [00:00<?, ?it/s]"
      ]
     },
     "metadata": {},
     "output_type": "display_data"
    },
    {
     "name": "stdout",
     "output_type": "stream",
     "text": [
      "Epoch 39: {'val_loss': '1.13321', 'train_loss': '1.57572'}\n"
     ]
    },
    {
     "data": {
      "application/vnd.jupyter.widget-view+json": {
       "model_id": "30932e50656f4160ab977fb5564b799a",
       "version_major": 2,
       "version_minor": 0
      },
      "text/plain": [
       "Validation: |          | 0/? [00:00<?, ?it/s]"
      ]
     },
     "metadata": {},
     "output_type": "display_data"
    },
    {
     "name": "stdout",
     "output_type": "stream",
     "text": [
      "Epoch 40: {'val_loss': '1.13331', 'train_loss': '1.57574'}\n"
     ]
    },
    {
     "data": {
      "application/vnd.jupyter.widget-view+json": {
       "model_id": "95ba54a267634da7be1c2883b335f8cd",
       "version_major": 2,
       "version_minor": 0
      },
      "text/plain": [
       "Validation: |          | 0/? [00:00<?, ?it/s]"
      ]
     },
     "metadata": {},
     "output_type": "display_data"
    },
    {
     "name": "stdout",
     "output_type": "stream",
     "text": [
      "Epoch 41: {'val_loss': '1.13273', 'train_loss': '1.57564'}\n"
     ]
    },
    {
     "data": {
      "application/vnd.jupyter.widget-view+json": {
       "model_id": "0ea5efcde7b64e3a8e224ad4f3f02661",
       "version_major": 2,
       "version_minor": 0
      },
      "text/plain": [
       "Validation: |          | 0/? [00:00<?, ?it/s]"
      ]
     },
     "metadata": {},
     "output_type": "display_data"
    },
    {
     "name": "stdout",
     "output_type": "stream",
     "text": [
      "Epoch 42: {'val_loss': '1.13240', 'train_loss': '1.57534'}\n"
     ]
    },
    {
     "data": {
      "application/vnd.jupyter.widget-view+json": {
       "model_id": "b4bc28112e25423aaaa70ddb85664dfa",
       "version_major": 2,
       "version_minor": 0
      },
      "text/plain": [
       "Validation: |          | 0/? [00:00<?, ?it/s]"
      ]
     },
     "metadata": {},
     "output_type": "display_data"
    },
    {
     "name": "stdout",
     "output_type": "stream",
     "text": [
      "Epoch 43: {'val_loss': '1.13228', 'train_loss': '1.57529'}\n"
     ]
    },
    {
     "data": {
      "application/vnd.jupyter.widget-view+json": {
       "model_id": "e52ee300999d49e29641ff35777dd597",
       "version_major": 2,
       "version_minor": 0
      },
      "text/plain": [
       "Validation: |          | 0/? [00:00<?, ?it/s]"
      ]
     },
     "metadata": {},
     "output_type": "display_data"
    },
    {
     "name": "stdout",
     "output_type": "stream",
     "text": [
      "Epoch 44: {'val_loss': '1.13239', 'train_loss': '1.57525'}\n"
     ]
    },
    {
     "data": {
      "application/vnd.jupyter.widget-view+json": {
       "model_id": "8bf0900df55742b880582d23f52f8c13",
       "version_major": 2,
       "version_minor": 0
      },
      "text/plain": [
       "Validation: |          | 0/? [00:00<?, ?it/s]"
      ]
     },
     "metadata": {},
     "output_type": "display_data"
    },
    {
     "name": "stdout",
     "output_type": "stream",
     "text": [
      "Epoch 45: {'val_loss': '1.13292', 'train_loss': '1.57512'}\n"
     ]
    },
    {
     "data": {
      "application/vnd.jupyter.widget-view+json": {
       "model_id": "1bb7c5348e784bea84ee7fb3b98c3e17",
       "version_major": 2,
       "version_minor": 0
      },
      "text/plain": [
       "Validation: |          | 0/? [00:00<?, ?it/s]"
      ]
     },
     "metadata": {},
     "output_type": "display_data"
    },
    {
     "name": "stdout",
     "output_type": "stream",
     "text": [
      "Epoch 46: {'val_loss': '1.13309', 'train_loss': '1.57515'}\n"
     ]
    },
    {
     "data": {
      "application/vnd.jupyter.widget-view+json": {
       "model_id": "b3190a4e20f14ad6962164ca0ab9e763",
       "version_major": 2,
       "version_minor": 0
      },
      "text/plain": [
       "Validation: |          | 0/? [00:00<?, ?it/s]"
      ]
     },
     "metadata": {},
     "output_type": "display_data"
    },
    {
     "name": "stdout",
     "output_type": "stream",
     "text": [
      "Epoch 47: {'val_loss': '1.13363', 'train_loss': '1.57526'}\n"
     ]
    },
    {
     "data": {
      "application/vnd.jupyter.widget-view+json": {
       "model_id": "deb61ddf5bb8446e9cae34d021ba65fc",
       "version_major": 2,
       "version_minor": 0
      },
      "text/plain": [
       "Validation: |          | 0/? [00:00<?, ?it/s]"
      ]
     },
     "metadata": {},
     "output_type": "display_data"
    },
    {
     "name": "stdout",
     "output_type": "stream",
     "text": [
      "Epoch 48: {'val_loss': '1.13308', 'train_loss': '1.57506'}\n"
     ]
    }
   ],
   "source": [
    "model = MyModel(\n",
    "    input_dim= input_dim,\n",
    "    hidden_dims= n_hidden,\n",
    "    dropouts = dropout,\n",
    "    lr = lr,\n",
    "    weight_decay = weight_decay\n",
    ")      \n",
    "early_stopping = EarlyStopping('val_loss', patience=patience, mode='min', verbose=False)\n",
    "checkpoint_callback = ModelCheckpoint(monitor='val_loss', mode='min', save_top_k=1, verbose=False, filename=f\"./models/nn.model\") \n",
    "timer = Timer()\n",
    "trainer = pl.Trainer(\n",
    "    max_epochs= max_epochs,\n",
    "    accelerator=\"gpu\",\n",
    "    devices = 1,\n",
    "    logger = None,\n",
    "    callbacks=[early_stopping, checkpoint_callback, timer],\n",
    "    enable_progress_bar=True\n",
    ")\n",
    "trainer.fit(model, data_module.train_dataloader(n_workers = num_loader), data_module.val_dataloader(n_workers = num_loader))"
   ]
  },
  {
   "cell_type": "code",
   "execution_count": null,
   "metadata": {},
   "outputs": [],
   "source": [
    "# right now data loader is not work when num_loader > 0\n",
    "N_fold = 5\n",
    "for fold in range(N_fold):\n",
    "    data_module = DataModule(train_df, batch_size = batch_size , valid_df= valid_df, accelerator= \"cpu\") \n",
    "    data_module.setup(fold,N_fold)\n",
    "    input_dim = data_module.train_dataset.features.shape[1]\n",
    "    model = MyModel(\n",
    "        input_dim= input_dim,\n",
    "        hidden_dims= n_hidden,\n",
    "        dropouts = dropout,\n",
    "        lr = lr,\n",
    "        weight_decay = weight_decay\n",
    "    )      \n",
    "    early_stopping = EarlyStopping('val_loss', patience=patience, mode='min', verbose=False)\n",
    "    checkpoint_callback = ModelCheckpoint(monitor='val_loss', mode='min', save_top_k=1, verbose=False, filename=f\"./models/nn__fold{fold}.model\") \n",
    "    timer = Timer()\n",
    "    trainer = pl.Trainer(\n",
    "        max_epochs= max_epochs,\n",
    "        accelerator=\"gpu\",\n",
    "        devices = 1,\n",
    "        logger = None,\n",
    "        callbacks=[early_stopping, checkpoint_callback, timer],\n",
    "        enable_progress_bar=True\n",
    "    )\n",
    "    trainer.fit(model, data_module.train_dataloader(n_workers = num_loader), data_module.val_dataloader(n_workers = num_loader))"
   ]
  }
 ],
 "metadata": {
  "kernelspec": {
   "display_name": "base",
   "language": "python",
   "name": "python3"
  },
  "language_info": {
   "codemirror_mode": {
    "name": "ipython",
    "version": 3
   },
   "file_extension": ".py",
   "mimetype": "text/x-python",
   "name": "python",
   "nbconvert_exporter": "python",
   "pygments_lexer": "ipython3",
   "version": "3.11.7"
  }
 },
 "nbformat": 4,
 "nbformat_minor": 2
}
