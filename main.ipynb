{
 "cells": [
  {
   "cell_type": "markdown",
   "metadata": {},
   "source": [
    "# Kaggle Competition "
   ]
  },
  {
   "cell_type": "code",
   "execution_count": 37,
   "metadata": {},
   "outputs": [],
   "source": [
    "import numpy as np\n",
    "import pandas as pd\n",
    "import polars as pl\n",
    "import joblib\n",
    "from sklearn.preprocessing import MinMaxScaler\n",
    "from sklearn.metrics import r2_score\n",
    "from xgboost import XGBRegressor"
   ]
  },
  {
   "cell_type": "markdown",
   "metadata": {},
   "source": [
    "# Load train/val data"
   ]
  },
  {
   "cell_type": "code",
   "execution_count": 38,
   "metadata": {},
   "outputs": [],
   "source": [
    "train_data = pd.read_parquet(\"data/train_data.parquet\")"
   ]
  },
  {
   "cell_type": "code",
   "execution_count": 39,
   "metadata": {},
   "outputs": [
    {
     "data": {
      "text/plain": [
       "(11774752, 101)"
      ]
     },
     "execution_count": 39,
     "metadata": {},
     "output_type": "execute_result"
    }
   ],
   "source": [
    "train_data.shape"
   ]
  },
  {
   "cell_type": "code",
   "execution_count": 40,
   "metadata": {},
   "outputs": [],
   "source": [
    "val_data = pd.read_parquet(\"data/validate_data.parquet\")"
   ]
  },
  {
   "cell_type": "code",
   "execution_count": 41,
   "metadata": {},
   "outputs": [
    {
     "data": {
      "text/plain": [
       "(639848, 101)"
      ]
     },
     "execution_count": 41,
     "metadata": {},
     "output_type": "execute_result"
    }
   ],
   "source": [
    "val_data.shape"
   ]
  },
  {
   "cell_type": "markdown",
   "metadata": {},
   "source": [
    "# define parameter"
   ]
  },
  {
   "cell_type": "code",
   "execution_count": 42,
   "metadata": {},
   "outputs": [],
   "source": [
    "# feature selection ## select every feature except 0-4 \n",
    "# feature_cols = [\"symbol_id\", \"time_id\"] + [f\"feature_{idx:02d}\" for idx in range(79)]+ [f\"responder_{idx}_lag_1\" for idx in range(9)]\n",
    "feature_cols = [f\"feature_{idx:02d}\" for idx in range(79)]+ [f\"responder_{idx}_lag_1\" for idx in range(9)]\n",
    "\n",
    "#select target values\n",
    "target_cols = [\"responder_6\"]\n",
    "\n",
    "# select the weight values\n",
    "weight_cols = [\"weight\"]"
   ]
  },
  {
   "cell_type": "code",
   "execution_count": null,
   "metadata": {},
   "outputs": [],
   "source": [
    "def validate_n_fold(model,X_val, y_val,w_val, n_folds):\n",
    "    global ScaleY\n",
    "    batch_size = len(y_val)//n_folds    \n",
    "    for i in range(0, len(X_val), batch_size):\n",
    "        X_batch = X_val[i:i+batch_size]\n",
    "        y_batch = y_val[i:i+batch_size]\n",
    "        w_batch = w_val[i:i+batch_size]\n",
    "        preds = model.predict(X_batch)\n",
    "        pred_inverse = ScaleY.inverse_transform(preds.reshape(-1, 1))\n",
    "        score1 = r2_score(y_batch, pred_inverse ,sample_weight= w_batch)\n",
    "        print(f'Batch {i//batch_size} r2_score: {score1:.6f}')"
   ]
  },
  {
   "cell_type": "markdown",
   "metadata": {},
   "source": [
    "# data scaling"
   ]
  },
  {
   "cell_type": "code",
   "execution_count": 43,
   "metadata": {},
   "outputs": [],
   "source": [
    "from sklearn.preprocessing import MinMaxScaler\n",
    "\n",
    "ScaleX =    joblib.load(\"model/XGBoost_scaleX.pkl\")\n",
    "ScaleY =    joblib.load(\"model/XGBoost_scaleY.pkl\")"
   ]
  },
  {
   "cell_type": "code",
   "execution_count": 44,
   "metadata": {},
   "outputs": [],
   "source": [
    "# the chunk requir maximum memory\n",
    "X_train =   ScaleX.transform(train_data[feature_cols])\n",
    "y_train =   ScaleY.transform(train_data[target_cols])\n",
    "w_train =   train_data[weight_cols]\n",
    "X_val =     ScaleX.transform(val_data[feature_cols])    \n",
    "y_val =     val_data[target_cols]\n",
    "w_val =     val_data[weight_cols]"
   ]
  },
  {
   "cell_type": "markdown",
   "metadata": {},
   "source": [
    "# import model"
   ]
  },
  {
   "cell_type": "code",
   "execution_count": null,
   "metadata": {},
   "outputs": [],
   "source": [
    "model1 =    joblib.load(\"model/XGBoost_best_model.pkl\")     # +.0056\n",
    "model2 =    joblib.load(\"model/XGBoost_test.pkl\")           # -.0027\n",
    "model3 =    joblib.load(\"model/XGBoost_test2.pkl\")          # +.0048\n",
    "model4 =    joblib.load(\"model/XGBoost_test3.pkl\")          # +.0056\n",
    "model5 =    joblib.load(\"model/XGBoost_test4.pkl\")          # +.0031\n",
    "model6 =    joblib.load(\"model/XGBoost_test5.pkl\")          # +.0036\n",
    "model7 =    joblib.load(\"model/XGBoost_test6.pkl\")          # +.0055\n",
    "model8 =    joblib.load(\"model/XGBoost_test7.pkl\")          # -.0039"
   ]
  },
  {
   "cell_type": "markdown",
   "metadata": {},
   "source": [
    "# model ensemble"
   ]
  },
  {
   "cell_type": "code",
   "execution_count": null,
   "metadata": {},
   "outputs": [],
   "source": []
  }
 ],
 "metadata": {
  "kernelspec": {
   "display_name": "base",
   "language": "python",
   "name": "python3"
  },
  "language_info": {
   "codemirror_mode": {
    "name": "ipython",
    "version": 3
   },
   "file_extension": ".py",
   "mimetype": "text/x-python",
   "name": "python",
   "nbconvert_exporter": "python",
   "pygments_lexer": "ipython3",
   "version": "3.11.7"
  }
 },
 "nbformat": 4,
 "nbformat_minor": 2
}
