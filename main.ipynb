{
 "cells": [
  {
   "cell_type": "markdown",
   "metadata": {},
   "source": [
    "# Download data"
   ]
  },
  {
   "cell_type": "code",
   "execution_count": 68,
   "metadata": {},
   "outputs": [],
   "source": [
    "import os\n",
    "import zipfile\n",
    "import kaggle\n",
    "# use kaggle api to download the data or manully download the data urself\n",
    "## ! Kaggle competitions download -c \"jane-street-real-time-market-data-forecasting\" \n",
    "\n",
    "# make the directory to be \"data/jane-street-real-time-market-data-forecasting\" and extract file there u f the code dont work do it manually\n",
    "## os.makedirs(\"data/jane-street-real-time-market-data-forecasting\", exist_ok=True) # create directory for jane-street-real-time-market-data-forecasting-housing\n",
    "## !unzip jane-street-real-time-market-data-forecasting.zip -d data/jane-street-real-time-market-data-forecasting/"
   ]
  },
  {
   "cell_type": "markdown",
   "metadata": {},
   "source": [
    "# Kaggle Competition "
   ]
  },
  {
   "cell_type": "code",
   "execution_count": 69,
   "metadata": {},
   "outputs": [],
   "source": [
    "import numpy as np\n",
    "import pandas as pd\n",
    "import polars as pl\n",
    "from sklearn.metrics import r2_score\n",
    "from sklearn.preprocessing import MinMaxScaler"
   ]
  },
  {
   "cell_type": "code",
   "execution_count": 70,
   "metadata": {},
   "outputs": [],
   "source": [
    "# function for import the data .parquet to pandas dataframe\n",
    "def import_data(i): # the data have 10 partiton 0 to 9\n",
    "    file_path = f\"data/jane-street-real-time-market-data-forecasting/train.parquet/partition_id={i}/part-0.parquet\"\n",
    "    df = pd.read_parquet(file_path)\n",
    "    print(f\"import train data part {i}\")\n",
    "    return df"
   ]
  },
  {
   "cell_type": "code",
   "execution_count": 71,
   "metadata": {},
   "outputs": [
    {
     "name": "stdout",
     "output_type": "stream",
     "text": [
      "import train data part 9\n"
     ]
    }
   ],
   "source": [
    "# test/example of the import fuction\n",
    "# train0 = download_data(0)\n",
    "train_data = import_data(9) # there are just more data in the train.parquet partition 9"
   ]
  },
  {
   "cell_type": "code",
   "execution_count": 72,
   "metadata": {},
   "outputs": [],
   "source": [
    "# import test data \n",
    "file_path  = f\"data/jane-street-real-time-market-data-forecasting/test.parquet/date_id=0/part-0.parquet\"\n",
    "test_data = pd.read_parquet(file_path)"
   ]
  },
  {
   "cell_type": "code",
   "execution_count": 73,
   "metadata": {},
   "outputs": [],
   "source": [
    "# import lag data\n",
    "file_path  = f\"data/jane-street-real-time-market-data-forecasting/lags.parquet/date_id=0/part-0.parquet\"\n",
    "lag_data = pd.read_parquet(file_path)"
   ]
  },
  {
   "cell_type": "markdown",
   "metadata": {},
   "source": [
    "# Data Preprocessing"
   ]
  },
  {
   "cell_type": "markdown",
   "metadata": {},
   "source": [
    "## Data cleaning"
   ]
  },
  {
   "cell_type": "code",
   "execution_count": 74,
   "metadata": {},
   "outputs": [],
   "source": [
    "# feature selection ## select every feature except 0-4 \n",
    "all_features_cols = [f\"feature_{idx:02d}\" for idx in range(79)]\n",
    "\n",
    "lag_cols_original = [\"date_id\", \"symbol_id\"] + [f\"responder_{idx}\" for idx in range(9)]\n",
    "\n",
    "#select target values\n",
    "target_cols = [\"responder_6\"]\n",
    "\n",
    "#select lag values\n",
    "tag = [\"date_id\", 'symbol_id']\n",
    "\n",
    "# select the weight values\n",
    "weight_cols = [\"weight\"]\n"
   ]
  },
  {
   "cell_type": "markdown",
   "metadata": {},
   "source": [
    "## drop the other responder column"
   ]
  },
  {
   "cell_type": "markdown",
   "metadata": {},
   "source": [
    "## respons to nan values"
   ]
  },
  {
   "cell_type": "code",
   "execution_count": 75,
   "metadata": {},
   "outputs": [],
   "source": [
    "# remove the nan values\n",
    "def replace_nan_with_mean_or_zero(column):\n",
    "    mean_value = column.mean()\n",
    "    if pd.notnull(mean_value):\n",
    "        return column.fillna(mean_value)\n",
    "    else:\n",
    "        return column.fillna(0)"
   ]
  },
  {
   "cell_type": "markdown",
   "metadata": {},
   "source": [
    "# Create training data with lag"
   ]
  },
  {
   "cell_type": "code",
   "execution_count": 77,
   "metadata": {},
   "outputs": [],
   "source": [
    "#new lag data\n",
    "lags = train_data[lag_cols_original]\n",
    "lags = lags.rename(columns= { f\"responder_{idx}\" : f\"responder_{idx}_lag_1\" for idx in range(9)})\n",
    "\n",
    "lags.date_id = lags.date_id + 1\n",
    "lags = lags.groupby(['date_id', 'symbol_id']).last().reset_index()  # pick up last record of previous date\n",
    "train_data = train_data.merge(lags, on = ['date_id', 'symbol_id'], how = 'left')\n",
    "\n",
    "all_features_cols= all_features_cols + [f\"responder_{idx}_lag_1\" for idx in range(9)]"
   ]
  },
  {
   "cell_type": "code",
   "execution_count": 20,
   "metadata": {},
   "outputs": [],
   "source": [
    "# Extract features and target, and add lagged target values\n",
    "# # comment out the lagged target values if you dont want to use them\n",
    "# train_data['responder_6_lag_1'] = train_data.groupby(['symbol_id','time_id'])[target_cols].shift(1)\n",
    "# all_features_cols= all_features_cols + ['responder_6_lag_1']"
   ]
  },
  {
   "cell_type": "code",
   "execution_count": 79,
   "metadata": {},
   "outputs": [],
   "source": [
    "# Split the data into training and validation sets\n",
    "train_data = train_data.apply(replace_nan_with_mean_or_zero)\n",
    "max_date_id = train_data['date_id'].max()\n",
    "num_val = 10\n",
    "train_set = train_data[train_data['date_id'] < max_date_id - num_val]\n",
    "val_set = train_data[train_data['date_id'] >= max_date_id - num_val]"
   ]
  },
  {
   "cell_type": "code",
   "execution_count": 80,
   "metadata": {},
   "outputs": [
    {
     "data": {
      "text/html": [
       "<div>\n",
       "<style scoped>\n",
       "    .dataframe tbody tr th:only-of-type {\n",
       "        vertical-align: middle;\n",
       "    }\n",
       "\n",
       "    .dataframe tbody tr th {\n",
       "        vertical-align: top;\n",
       "    }\n",
       "\n",
       "    .dataframe thead th {\n",
       "        text-align: right;\n",
       "    }\n",
       "</style>\n",
       "<table border=\"1\" class=\"dataframe\">\n",
       "  <thead>\n",
       "    <tr style=\"text-align: right;\">\n",
       "      <th></th>\n",
       "      <th>date_id</th>\n",
       "      <th>time_id</th>\n",
       "      <th>symbol_id</th>\n",
       "      <th>weight</th>\n",
       "      <th>feature_00</th>\n",
       "      <th>feature_01</th>\n",
       "      <th>feature_02</th>\n",
       "      <th>feature_03</th>\n",
       "      <th>feature_04</th>\n",
       "      <th>feature_05</th>\n",
       "      <th>...</th>\n",
       "      <th>responder_8</th>\n",
       "      <th>responder_0_lag_1</th>\n",
       "      <th>responder_1_lag_1</th>\n",
       "      <th>responder_2_lag_1</th>\n",
       "      <th>responder_3_lag_1</th>\n",
       "      <th>responder_4_lag_1</th>\n",
       "      <th>responder_5_lag_1</th>\n",
       "      <th>responder_6_lag_1</th>\n",
       "      <th>responder_7_lag_1</th>\n",
       "      <th>responder_8_lag_1</th>\n",
       "    </tr>\n",
       "  </thead>\n",
       "  <tbody>\n",
       "    <tr>\n",
       "      <th>5860272</th>\n",
       "      <td>1688</td>\n",
       "      <td>0</td>\n",
       "      <td>0</td>\n",
       "      <td>3.917863</td>\n",
       "      <td>3.641242</td>\n",
       "      <td>2.034956</td>\n",
       "      <td>3.186726</td>\n",
       "      <td>2.876487</td>\n",
       "      <td>-2.756220</td>\n",
       "      <td>0.744516</td>\n",
       "      <td>...</td>\n",
       "      <td>0.128309</td>\n",
       "      <td>0.497190</td>\n",
       "      <td>0.203051</td>\n",
       "      <td>-1.384132</td>\n",
       "      <td>-0.251033</td>\n",
       "      <td>-0.122643</td>\n",
       "      <td>-0.076953</td>\n",
       "      <td>0.354846</td>\n",
       "      <td>0.183978</td>\n",
       "      <td>0.390437</td>\n",
       "    </tr>\n",
       "    <tr>\n",
       "      <th>5860273</th>\n",
       "      <td>1688</td>\n",
       "      <td>0</td>\n",
       "      <td>1</td>\n",
       "      <td>2.955504</td>\n",
       "      <td>3.096450</td>\n",
       "      <td>2.175924</td>\n",
       "      <td>2.813694</td>\n",
       "      <td>2.788037</td>\n",
       "      <td>-2.366751</td>\n",
       "      <td>0.807214</td>\n",
       "      <td>...</td>\n",
       "      <td>2.945375</td>\n",
       "      <td>-0.567836</td>\n",
       "      <td>-0.193086</td>\n",
       "      <td>-0.009620</td>\n",
       "      <td>-0.057114</td>\n",
       "      <td>-0.027312</td>\n",
       "      <td>0.522966</td>\n",
       "      <td>0.461402</td>\n",
       "      <td>0.148904</td>\n",
       "      <td>0.918688</td>\n",
       "    </tr>\n",
       "    <tr>\n",
       "      <th>5860274</th>\n",
       "      <td>1688</td>\n",
       "      <td>0</td>\n",
       "      <td>2</td>\n",
       "      <td>2.684425</td>\n",
       "      <td>3.691775</td>\n",
       "      <td>2.219744</td>\n",
       "      <td>2.776047</td>\n",
       "      <td>3.276349</td>\n",
       "      <td>-2.746391</td>\n",
       "      <td>1.792290</td>\n",
       "      <td>...</td>\n",
       "      <td>-0.692000</td>\n",
       "      <td>-1.075524</td>\n",
       "      <td>0.196840</td>\n",
       "      <td>-0.341488</td>\n",
       "      <td>-0.715716</td>\n",
       "      <td>-0.413005</td>\n",
       "      <td>-0.027542</td>\n",
       "      <td>0.133654</td>\n",
       "      <td>0.085567</td>\n",
       "      <td>0.291937</td>\n",
       "    </tr>\n",
       "    <tr>\n",
       "      <th>5860275</th>\n",
       "      <td>1688</td>\n",
       "      <td>0</td>\n",
       "      <td>3</td>\n",
       "      <td>2.493740</td>\n",
       "      <td>3.854059</td>\n",
       "      <td>1.964735</td>\n",
       "      <td>3.407585</td>\n",
       "      <td>2.990262</td>\n",
       "      <td>-2.144638</td>\n",
       "      <td>1.943719</td>\n",
       "      <td>...</td>\n",
       "      <td>0.709577</td>\n",
       "      <td>-0.009434</td>\n",
       "      <td>0.296269</td>\n",
       "      <td>0.711735</td>\n",
       "      <td>0.226703</td>\n",
       "      <td>0.113175</td>\n",
       "      <td>0.453599</td>\n",
       "      <td>0.114770</td>\n",
       "      <td>0.094785</td>\n",
       "      <td>0.217759</td>\n",
       "    </tr>\n",
       "    <tr>\n",
       "      <th>5860276</th>\n",
       "      <td>1688</td>\n",
       "      <td>0</td>\n",
       "      <td>4</td>\n",
       "      <td>3.570191</td>\n",
       "      <td>3.212553</td>\n",
       "      <td>2.290497</td>\n",
       "      <td>2.996184</td>\n",
       "      <td>3.239227</td>\n",
       "      <td>-2.667047</td>\n",
       "      <td>0.571937</td>\n",
       "      <td>...</td>\n",
       "      <td>-0.491592</td>\n",
       "      <td>0.298008</td>\n",
       "      <td>0.241774</td>\n",
       "      <td>2.303335</td>\n",
       "      <td>0.323491</td>\n",
       "      <td>0.147794</td>\n",
       "      <td>0.570477</td>\n",
       "      <td>0.020592</td>\n",
       "      <td>0.046038</td>\n",
       "      <td>0.012800</td>\n",
       "    </tr>\n",
       "    <tr>\n",
       "      <th>...</th>\n",
       "      <td>...</td>\n",
       "      <td>...</td>\n",
       "      <td>...</td>\n",
       "      <td>...</td>\n",
       "      <td>...</td>\n",
       "      <td>...</td>\n",
       "      <td>...</td>\n",
       "      <td>...</td>\n",
       "      <td>...</td>\n",
       "      <td>...</td>\n",
       "      <td>...</td>\n",
       "      <td>...</td>\n",
       "      <td>...</td>\n",
       "      <td>...</td>\n",
       "      <td>...</td>\n",
       "      <td>...</td>\n",
       "      <td>...</td>\n",
       "      <td>...</td>\n",
       "      <td>...</td>\n",
       "      <td>...</td>\n",
       "      <td>...</td>\n",
       "    </tr>\n",
       "    <tr>\n",
       "      <th>6274571</th>\n",
       "      <td>1698</td>\n",
       "      <td>967</td>\n",
       "      <td>34</td>\n",
       "      <td>3.242493</td>\n",
       "      <td>2.525160</td>\n",
       "      <td>-0.721981</td>\n",
       "      <td>2.544025</td>\n",
       "      <td>2.477615</td>\n",
       "      <td>0.417557</td>\n",
       "      <td>0.785812</td>\n",
       "      <td>...</td>\n",
       "      <td>-0.252461</td>\n",
       "      <td>0.501321</td>\n",
       "      <td>0.905332</td>\n",
       "      <td>-0.819582</td>\n",
       "      <td>-0.564046</td>\n",
       "      <td>-0.223018</td>\n",
       "      <td>-0.283954</td>\n",
       "      <td>-0.045938</td>\n",
       "      <td>0.009797</td>\n",
       "      <td>-0.102538</td>\n",
       "    </tr>\n",
       "    <tr>\n",
       "      <th>6274572</th>\n",
       "      <td>1698</td>\n",
       "      <td>967</td>\n",
       "      <td>35</td>\n",
       "      <td>1.079139</td>\n",
       "      <td>1.857906</td>\n",
       "      <td>-0.790646</td>\n",
       "      <td>2.745439</td>\n",
       "      <td>2.339877</td>\n",
       "      <td>0.845065</td>\n",
       "      <td>0.651370</td>\n",
       "      <td>...</td>\n",
       "      <td>-0.460630</td>\n",
       "      <td>-1.113053</td>\n",
       "      <td>0.697190</td>\n",
       "      <td>-1.619031</td>\n",
       "      <td>-1.222743</td>\n",
       "      <td>-0.706082</td>\n",
       "      <td>-0.291133</td>\n",
       "      <td>0.167733</td>\n",
       "      <td>0.099704</td>\n",
       "      <td>0.324610</td>\n",
       "    </tr>\n",
       "    <tr>\n",
       "      <th>6274573</th>\n",
       "      <td>1698</td>\n",
       "      <td>967</td>\n",
       "      <td>36</td>\n",
       "      <td>1.033172</td>\n",
       "      <td>2.515527</td>\n",
       "      <td>-0.672298</td>\n",
       "      <td>2.289250</td>\n",
       "      <td>2.521592</td>\n",
       "      <td>0.255077</td>\n",
       "      <td>0.919892</td>\n",
       "      <td>...</td>\n",
       "      <td>-0.125170</td>\n",
       "      <td>-1.019353</td>\n",
       "      <td>-0.460962</td>\n",
       "      <td>-2.026678</td>\n",
       "      <td>-0.848606</td>\n",
       "      <td>-0.305448</td>\n",
       "      <td>-1.256913</td>\n",
       "      <td>-0.109359</td>\n",
       "      <td>-0.027474</td>\n",
       "      <td>-0.253956</td>\n",
       "    </tr>\n",
       "    <tr>\n",
       "      <th>6274574</th>\n",
       "      <td>1698</td>\n",
       "      <td>967</td>\n",
       "      <td>37</td>\n",
       "      <td>1.243116</td>\n",
       "      <td>2.663298</td>\n",
       "      <td>-0.889112</td>\n",
       "      <td>2.313155</td>\n",
       "      <td>3.101428</td>\n",
       "      <td>0.324454</td>\n",
       "      <td>0.618944</td>\n",
       "      <td>...</td>\n",
       "      <td>-0.256395</td>\n",
       "      <td>0.235850</td>\n",
       "      <td>0.556479</td>\n",
       "      <td>0.618944</td>\n",
       "      <td>-0.243765</td>\n",
       "      <td>-0.108361</td>\n",
       "      <td>-0.260777</td>\n",
       "      <td>-0.486923</td>\n",
       "      <td>-0.275566</td>\n",
       "      <td>-1.020708</td>\n",
       "    </tr>\n",
       "    <tr>\n",
       "      <th>6274575</th>\n",
       "      <td>1698</td>\n",
       "      <td>967</td>\n",
       "      <td>38</td>\n",
       "      <td>3.193685</td>\n",
       "      <td>2.728506</td>\n",
       "      <td>-0.745238</td>\n",
       "      <td>2.788789</td>\n",
       "      <td>2.343393</td>\n",
       "      <td>0.454731</td>\n",
       "      <td>0.862839</td>\n",
       "      <td>...</td>\n",
       "      <td>-0.211940</td>\n",
       "      <td>0.542563</td>\n",
       "      <td>0.513193</td>\n",
       "      <td>0.814393</td>\n",
       "      <td>0.032767</td>\n",
       "      <td>0.025435</td>\n",
       "      <td>0.311465</td>\n",
       "      <td>-0.044797</td>\n",
       "      <td>0.011133</td>\n",
       "      <td>-0.079300</td>\n",
       "    </tr>\n",
       "  </tbody>\n",
       "</table>\n",
       "<p>414304 rows × 101 columns</p>\n",
       "</div>"
      ],
      "text/plain": [
       "         date_id  time_id  symbol_id    weight  feature_00  feature_01  \\\n",
       "5860272     1688        0          0  3.917863    3.641242    2.034956   \n",
       "5860273     1688        0          1  2.955504    3.096450    2.175924   \n",
       "5860274     1688        0          2  2.684425    3.691775    2.219744   \n",
       "5860275     1688        0          3  2.493740    3.854059    1.964735   \n",
       "5860276     1688        0          4  3.570191    3.212553    2.290497   \n",
       "...          ...      ...        ...       ...         ...         ...   \n",
       "6274571     1698      967         34  3.242493    2.525160   -0.721981   \n",
       "6274572     1698      967         35  1.079139    1.857906   -0.790646   \n",
       "6274573     1698      967         36  1.033172    2.515527   -0.672298   \n",
       "6274574     1698      967         37  1.243116    2.663298   -0.889112   \n",
       "6274575     1698      967         38  3.193685    2.728506   -0.745238   \n",
       "\n",
       "         feature_02  feature_03  feature_04  feature_05  ...  responder_8  \\\n",
       "5860272    3.186726    2.876487   -2.756220    0.744516  ...     0.128309   \n",
       "5860273    2.813694    2.788037   -2.366751    0.807214  ...     2.945375   \n",
       "5860274    2.776047    3.276349   -2.746391    1.792290  ...    -0.692000   \n",
       "5860275    3.407585    2.990262   -2.144638    1.943719  ...     0.709577   \n",
       "5860276    2.996184    3.239227   -2.667047    0.571937  ...    -0.491592   \n",
       "...             ...         ...         ...         ...  ...          ...   \n",
       "6274571    2.544025    2.477615    0.417557    0.785812  ...    -0.252461   \n",
       "6274572    2.745439    2.339877    0.845065    0.651370  ...    -0.460630   \n",
       "6274573    2.289250    2.521592    0.255077    0.919892  ...    -0.125170   \n",
       "6274574    2.313155    3.101428    0.324454    0.618944  ...    -0.256395   \n",
       "6274575    2.788789    2.343393    0.454731    0.862839  ...    -0.211940   \n",
       "\n",
       "         responder_0_lag_1  responder_1_lag_1  responder_2_lag_1  \\\n",
       "5860272           0.497190           0.203051          -1.384132   \n",
       "5860273          -0.567836          -0.193086          -0.009620   \n",
       "5860274          -1.075524           0.196840          -0.341488   \n",
       "5860275          -0.009434           0.296269           0.711735   \n",
       "5860276           0.298008           0.241774           2.303335   \n",
       "...                    ...                ...                ...   \n",
       "6274571           0.501321           0.905332          -0.819582   \n",
       "6274572          -1.113053           0.697190          -1.619031   \n",
       "6274573          -1.019353          -0.460962          -2.026678   \n",
       "6274574           0.235850           0.556479           0.618944   \n",
       "6274575           0.542563           0.513193           0.814393   \n",
       "\n",
       "         responder_3_lag_1  responder_4_lag_1  responder_5_lag_1  \\\n",
       "5860272          -0.251033          -0.122643          -0.076953   \n",
       "5860273          -0.057114          -0.027312           0.522966   \n",
       "5860274          -0.715716          -0.413005          -0.027542   \n",
       "5860275           0.226703           0.113175           0.453599   \n",
       "5860276           0.323491           0.147794           0.570477   \n",
       "...                    ...                ...                ...   \n",
       "6274571          -0.564046          -0.223018          -0.283954   \n",
       "6274572          -1.222743          -0.706082          -0.291133   \n",
       "6274573          -0.848606          -0.305448          -1.256913   \n",
       "6274574          -0.243765          -0.108361          -0.260777   \n",
       "6274575           0.032767           0.025435           0.311465   \n",
       "\n",
       "         responder_6_lag_1  responder_7_lag_1  responder_8_lag_1  \n",
       "5860272           0.354846           0.183978           0.390437  \n",
       "5860273           0.461402           0.148904           0.918688  \n",
       "5860274           0.133654           0.085567           0.291937  \n",
       "5860275           0.114770           0.094785           0.217759  \n",
       "5860276           0.020592           0.046038           0.012800  \n",
       "...                    ...                ...                ...  \n",
       "6274571          -0.045938           0.009797          -0.102538  \n",
       "6274572           0.167733           0.099704           0.324610  \n",
       "6274573          -0.109359          -0.027474          -0.253956  \n",
       "6274574          -0.486923          -0.275566          -1.020708  \n",
       "6274575          -0.044797           0.011133          -0.079300  \n",
       "\n",
       "[414304 rows x 101 columns]"
      ]
     },
     "execution_count": 80,
     "metadata": {},
     "output_type": "execute_result"
    }
   ],
   "source": [
    "val_set"
   ]
  },
  {
   "cell_type": "markdown",
   "metadata": {},
   "source": [
    "# model"
   ]
  },
  {
   "cell_type": "code",
   "execution_count": 81,
   "metadata": {},
   "outputs": [
    {
     "data": {
      "text/plain": [
       "(responder_6   -5.0\n",
       " dtype: float32,\n",
       " responder_6    5.0\n",
       " dtype: float32)"
      ]
     },
     "execution_count": 81,
     "metadata": {},
     "output_type": "execute_result"
    }
   ],
   "source": [
    "train_set[target_cols].min(), train_set[target_cols].max()"
   ]
  },
  {
   "cell_type": "code",
   "execution_count": 82,
   "metadata": {},
   "outputs": [],
   "source": [
    "from sklearn.preprocessing import MinMaxScaler\n",
    "\n",
    "ScaleX = MinMaxScaler(feature_range=(-1,1)).fit(train_set[all_features_cols])\n",
    "ScaleY = MinMaxScaler(feature_range=(-1,1)).fit(train_set[target_cols])\n",
    "X_train = ScaleX.transform(train_set[all_features_cols])\n",
    "y_train = ScaleY.transform(train_set[target_cols])\n",
    "X_val = ScaleX.transform(val_set[all_features_cols])    \n",
    "y_val = ScaleY.transform(val_set[target_cols])"
   ]
  },
  {
   "cell_type": "code",
   "execution_count": 83,
   "metadata": {},
   "outputs": [
    {
     "data": {
      "text/plain": [
       "(-1.0, 1.0)"
      ]
     },
     "execution_count": 83,
     "metadata": {},
     "output_type": "execute_result"
    }
   ],
   "source": [
    "y_train.min(), y_train.max()"
   ]
  },
  {
   "cell_type": "code",
   "execution_count": 84,
   "metadata": {},
   "outputs": [
    {
     "name": "stderr",
     "output_type": "stream",
     "text": [
      "c:\\Users\\Asus\\anaconda3\\Lib\\site-packages\\sklearn\\utils\\_tags.py:354: FutureWarning: The XGBRegressor or classes from which it inherits use `_get_tags` and `_more_tags`. Please define the `__sklearn_tags__` method, or inherit from `sklearn.base.BaseEstimator` and/or other appropriate mixins such as `sklearn.base.TransformerMixin`, `sklearn.base.ClassifierMixin`, `sklearn.base.RegressorMixin`, and `sklearn.base.OutlierMixin`. From scikit-learn 1.7, not defining `__sklearn_tags__` will raise an error.\n",
      "  warnings.warn(\n"
     ]
    },
    {
     "ename": "AttributeError",
     "evalue": "'super' object has no attribute '__sklearn_tags__'",
     "output_type": "error",
     "traceback": [
      "\u001b[1;31m---------------------------------------------------------------------------\u001b[0m",
      "\u001b[1;31mAttributeError\u001b[0m                            Traceback (most recent call last)",
      "File \u001b[1;32mc:\\Users\\Asus\\anaconda3\\Lib\\site-packages\\IPython\\core\\formatters.py:974\u001b[0m, in \u001b[0;36mMimeBundleFormatter.__call__\u001b[1;34m(self, obj, include, exclude)\u001b[0m\n\u001b[0;32m    971\u001b[0m     method \u001b[38;5;241m=\u001b[39m get_real_method(obj, \u001b[38;5;28mself\u001b[39m\u001b[38;5;241m.\u001b[39mprint_method)\n\u001b[0;32m    973\u001b[0m     \u001b[38;5;28;01mif\u001b[39;00m method \u001b[38;5;129;01mis\u001b[39;00m \u001b[38;5;129;01mnot\u001b[39;00m \u001b[38;5;28;01mNone\u001b[39;00m:\n\u001b[1;32m--> 974\u001b[0m         \u001b[38;5;28;01mreturn\u001b[39;00m method(include\u001b[38;5;241m=\u001b[39minclude, exclude\u001b[38;5;241m=\u001b[39mexclude)\n\u001b[0;32m    975\u001b[0m     \u001b[38;5;28;01mreturn\u001b[39;00m \u001b[38;5;28;01mNone\u001b[39;00m\n\u001b[0;32m    976\u001b[0m \u001b[38;5;28;01melse\u001b[39;00m:\n",
      "File \u001b[1;32mc:\\Users\\Asus\\anaconda3\\Lib\\site-packages\\sklearn\\base.py:469\u001b[0m, in \u001b[0;36mBaseEstimator._repr_mimebundle_\u001b[1;34m(self, **kwargs)\u001b[0m\n\u001b[0;32m    467\u001b[0m output \u001b[38;5;241m=\u001b[39m {\u001b[38;5;124m\"\u001b[39m\u001b[38;5;124mtext/plain\u001b[39m\u001b[38;5;124m\"\u001b[39m: \u001b[38;5;28mrepr\u001b[39m(\u001b[38;5;28mself\u001b[39m)}\n\u001b[0;32m    468\u001b[0m \u001b[38;5;28;01mif\u001b[39;00m get_config()[\u001b[38;5;124m\"\u001b[39m\u001b[38;5;124mdisplay\u001b[39m\u001b[38;5;124m\"\u001b[39m] \u001b[38;5;241m==\u001b[39m \u001b[38;5;124m\"\u001b[39m\u001b[38;5;124mdiagram\u001b[39m\u001b[38;5;124m\"\u001b[39m:\n\u001b[1;32m--> 469\u001b[0m     output[\u001b[38;5;124m\"\u001b[39m\u001b[38;5;124mtext/html\u001b[39m\u001b[38;5;124m\"\u001b[39m] \u001b[38;5;241m=\u001b[39m estimator_html_repr(\u001b[38;5;28mself\u001b[39m)\n\u001b[0;32m    470\u001b[0m \u001b[38;5;28;01mreturn\u001b[39;00m output\n",
      "File \u001b[1;32mc:\\Users\\Asus\\anaconda3\\Lib\\site-packages\\sklearn\\utils\\_estimator_html_repr.py:387\u001b[0m, in \u001b[0;36mestimator_html_repr\u001b[1;34m(estimator)\u001b[0m\n\u001b[0;32m    385\u001b[0m \u001b[38;5;28;01melse\u001b[39;00m:\n\u001b[0;32m    386\u001b[0m     \u001b[38;5;28;01mtry\u001b[39;00m:\n\u001b[1;32m--> 387\u001b[0m         check_is_fitted(estimator)\n\u001b[0;32m    388\u001b[0m         status_label \u001b[38;5;241m=\u001b[39m \u001b[38;5;124m\"\u001b[39m\u001b[38;5;124m<span>Fitted</span>\u001b[39m\u001b[38;5;124m\"\u001b[39m\n\u001b[0;32m    389\u001b[0m         is_fitted_css_class \u001b[38;5;241m=\u001b[39m \u001b[38;5;124m\"\u001b[39m\u001b[38;5;124mfitted\u001b[39m\u001b[38;5;124m\"\u001b[39m\n",
      "File \u001b[1;32mc:\\Users\\Asus\\anaconda3\\Lib\\site-packages\\sklearn\\utils\\validation.py:1751\u001b[0m, in \u001b[0;36mcheck_is_fitted\u001b[1;34m(estimator, attributes, msg, all_or_any)\u001b[0m\n\u001b[0;32m   1748\u001b[0m \u001b[38;5;28;01mif\u001b[39;00m \u001b[38;5;129;01mnot\u001b[39;00m \u001b[38;5;28mhasattr\u001b[39m(estimator, \u001b[38;5;124m\"\u001b[39m\u001b[38;5;124mfit\u001b[39m\u001b[38;5;124m\"\u001b[39m):\n\u001b[0;32m   1749\u001b[0m     \u001b[38;5;28;01mraise\u001b[39;00m \u001b[38;5;167;01mTypeError\u001b[39;00m(\u001b[38;5;124m\"\u001b[39m\u001b[38;5;132;01m%s\u001b[39;00m\u001b[38;5;124m is not an estimator instance.\u001b[39m\u001b[38;5;124m\"\u001b[39m \u001b[38;5;241m%\u001b[39m (estimator))\n\u001b[1;32m-> 1751\u001b[0m tags \u001b[38;5;241m=\u001b[39m get_tags(estimator)\n\u001b[0;32m   1753\u001b[0m \u001b[38;5;28;01mif\u001b[39;00m \u001b[38;5;129;01mnot\u001b[39;00m tags\u001b[38;5;241m.\u001b[39mrequires_fit \u001b[38;5;129;01mand\u001b[39;00m attributes \u001b[38;5;129;01mis\u001b[39;00m \u001b[38;5;28;01mNone\u001b[39;00m:\n\u001b[0;32m   1754\u001b[0m     \u001b[38;5;28;01mreturn\u001b[39;00m\n",
      "File \u001b[1;32mc:\\Users\\Asus\\anaconda3\\Lib\\site-packages\\sklearn\\utils\\_tags.py:405\u001b[0m, in \u001b[0;36mget_tags\u001b[1;34m(estimator)\u001b[0m\n\u001b[0;32m    403\u001b[0m \u001b[38;5;28;01mfor\u001b[39;00m klass \u001b[38;5;129;01min\u001b[39;00m \u001b[38;5;28mreversed\u001b[39m(\u001b[38;5;28mtype\u001b[39m(estimator)\u001b[38;5;241m.\u001b[39mmro()):\n\u001b[0;32m    404\u001b[0m     \u001b[38;5;28;01mif\u001b[39;00m \u001b[38;5;124m\"\u001b[39m\u001b[38;5;124m__sklearn_tags__\u001b[39m\u001b[38;5;124m\"\u001b[39m \u001b[38;5;129;01min\u001b[39;00m \u001b[38;5;28mvars\u001b[39m(klass):\n\u001b[1;32m--> 405\u001b[0m         sklearn_tags_provider[klass] \u001b[38;5;241m=\u001b[39m klass\u001b[38;5;241m.\u001b[39m__sklearn_tags__(estimator)  \u001b[38;5;66;03m# type: ignore[attr-defined]\u001b[39;00m\n\u001b[0;32m    406\u001b[0m         class_order\u001b[38;5;241m.\u001b[39mappend(klass)\n\u001b[0;32m    407\u001b[0m     \u001b[38;5;28;01melif\u001b[39;00m \u001b[38;5;124m\"\u001b[39m\u001b[38;5;124m_more_tags\u001b[39m\u001b[38;5;124m\"\u001b[39m \u001b[38;5;129;01min\u001b[39;00m \u001b[38;5;28mvars\u001b[39m(klass):\n",
      "File \u001b[1;32mc:\\Users\\Asus\\anaconda3\\Lib\\site-packages\\sklearn\\base.py:613\u001b[0m, in \u001b[0;36mRegressorMixin.__sklearn_tags__\u001b[1;34m(self)\u001b[0m\n\u001b[0;32m    612\u001b[0m \u001b[38;5;28;01mdef\u001b[39;00m \u001b[38;5;21m__sklearn_tags__\u001b[39m(\u001b[38;5;28mself\u001b[39m):\n\u001b[1;32m--> 613\u001b[0m     tags \u001b[38;5;241m=\u001b[39m \u001b[38;5;28msuper\u001b[39m()\u001b[38;5;241m.\u001b[39m__sklearn_tags__()\n\u001b[0;32m    614\u001b[0m     tags\u001b[38;5;241m.\u001b[39mestimator_type \u001b[38;5;241m=\u001b[39m \u001b[38;5;124m\"\u001b[39m\u001b[38;5;124mregressor\u001b[39m\u001b[38;5;124m\"\u001b[39m\n\u001b[0;32m    615\u001b[0m     tags\u001b[38;5;241m.\u001b[39mregressor_tags \u001b[38;5;241m=\u001b[39m RegressorTags()\n",
      "\u001b[1;31mAttributeError\u001b[0m: 'super' object has no attribute '__sklearn_tags__'"
     ]
    },
    {
     "ename": "AttributeError",
     "evalue": "'super' object has no attribute '__sklearn_tags__'",
     "output_type": "error",
     "traceback": [
      "\u001b[1;31m---------------------------------------------------------------------------\u001b[0m",
      "\u001b[1;31mAttributeError\u001b[0m                            Traceback (most recent call last)",
      "File \u001b[1;32mc:\\Users\\Asus\\anaconda3\\Lib\\site-packages\\IPython\\core\\formatters.py:344\u001b[0m, in \u001b[0;36mBaseFormatter.__call__\u001b[1;34m(self, obj)\u001b[0m\n\u001b[0;32m    342\u001b[0m     method \u001b[38;5;241m=\u001b[39m get_real_method(obj, \u001b[38;5;28mself\u001b[39m\u001b[38;5;241m.\u001b[39mprint_method)\n\u001b[0;32m    343\u001b[0m     \u001b[38;5;28;01mif\u001b[39;00m method \u001b[38;5;129;01mis\u001b[39;00m \u001b[38;5;129;01mnot\u001b[39;00m \u001b[38;5;28;01mNone\u001b[39;00m:\n\u001b[1;32m--> 344\u001b[0m         \u001b[38;5;28;01mreturn\u001b[39;00m method()\n\u001b[0;32m    345\u001b[0m     \u001b[38;5;28;01mreturn\u001b[39;00m \u001b[38;5;28;01mNone\u001b[39;00m\n\u001b[0;32m    346\u001b[0m \u001b[38;5;28;01melse\u001b[39;00m:\n",
      "File \u001b[1;32mc:\\Users\\Asus\\anaconda3\\Lib\\site-packages\\sklearn\\base.py:463\u001b[0m, in \u001b[0;36mBaseEstimator._repr_html_inner\u001b[1;34m(self)\u001b[0m\n\u001b[0;32m    458\u001b[0m \u001b[38;5;28;01mdef\u001b[39;00m \u001b[38;5;21m_repr_html_inner\u001b[39m(\u001b[38;5;28mself\u001b[39m):\n\u001b[0;32m    459\u001b[0m \u001b[38;5;250m    \u001b[39m\u001b[38;5;124;03m\"\"\"This function is returned by the @property `_repr_html_` to make\u001b[39;00m\n\u001b[0;32m    460\u001b[0m \u001b[38;5;124;03m    `hasattr(estimator, \"_repr_html_\") return `True` or `False` depending\u001b[39;00m\n\u001b[0;32m    461\u001b[0m \u001b[38;5;124;03m    on `get_config()[\"display\"]`.\u001b[39;00m\n\u001b[0;32m    462\u001b[0m \u001b[38;5;124;03m    \"\"\"\u001b[39;00m\n\u001b[1;32m--> 463\u001b[0m     \u001b[38;5;28;01mreturn\u001b[39;00m estimator_html_repr(\u001b[38;5;28mself\u001b[39m)\n",
      "File \u001b[1;32mc:\\Users\\Asus\\anaconda3\\Lib\\site-packages\\sklearn\\utils\\_estimator_html_repr.py:387\u001b[0m, in \u001b[0;36mestimator_html_repr\u001b[1;34m(estimator)\u001b[0m\n\u001b[0;32m    385\u001b[0m \u001b[38;5;28;01melse\u001b[39;00m:\n\u001b[0;32m    386\u001b[0m     \u001b[38;5;28;01mtry\u001b[39;00m:\n\u001b[1;32m--> 387\u001b[0m         check_is_fitted(estimator)\n\u001b[0;32m    388\u001b[0m         status_label \u001b[38;5;241m=\u001b[39m \u001b[38;5;124m\"\u001b[39m\u001b[38;5;124m<span>Fitted</span>\u001b[39m\u001b[38;5;124m\"\u001b[39m\n\u001b[0;32m    389\u001b[0m         is_fitted_css_class \u001b[38;5;241m=\u001b[39m \u001b[38;5;124m\"\u001b[39m\u001b[38;5;124mfitted\u001b[39m\u001b[38;5;124m\"\u001b[39m\n",
      "File \u001b[1;32mc:\\Users\\Asus\\anaconda3\\Lib\\site-packages\\sklearn\\utils\\validation.py:1751\u001b[0m, in \u001b[0;36mcheck_is_fitted\u001b[1;34m(estimator, attributes, msg, all_or_any)\u001b[0m\n\u001b[0;32m   1748\u001b[0m \u001b[38;5;28;01mif\u001b[39;00m \u001b[38;5;129;01mnot\u001b[39;00m \u001b[38;5;28mhasattr\u001b[39m(estimator, \u001b[38;5;124m\"\u001b[39m\u001b[38;5;124mfit\u001b[39m\u001b[38;5;124m\"\u001b[39m):\n\u001b[0;32m   1749\u001b[0m     \u001b[38;5;28;01mraise\u001b[39;00m \u001b[38;5;167;01mTypeError\u001b[39;00m(\u001b[38;5;124m\"\u001b[39m\u001b[38;5;132;01m%s\u001b[39;00m\u001b[38;5;124m is not an estimator instance.\u001b[39m\u001b[38;5;124m\"\u001b[39m \u001b[38;5;241m%\u001b[39m (estimator))\n\u001b[1;32m-> 1751\u001b[0m tags \u001b[38;5;241m=\u001b[39m get_tags(estimator)\n\u001b[0;32m   1753\u001b[0m \u001b[38;5;28;01mif\u001b[39;00m \u001b[38;5;129;01mnot\u001b[39;00m tags\u001b[38;5;241m.\u001b[39mrequires_fit \u001b[38;5;129;01mand\u001b[39;00m attributes \u001b[38;5;129;01mis\u001b[39;00m \u001b[38;5;28;01mNone\u001b[39;00m:\n\u001b[0;32m   1754\u001b[0m     \u001b[38;5;28;01mreturn\u001b[39;00m\n",
      "File \u001b[1;32mc:\\Users\\Asus\\anaconda3\\Lib\\site-packages\\sklearn\\utils\\_tags.py:405\u001b[0m, in \u001b[0;36mget_tags\u001b[1;34m(estimator)\u001b[0m\n\u001b[0;32m    403\u001b[0m \u001b[38;5;28;01mfor\u001b[39;00m klass \u001b[38;5;129;01min\u001b[39;00m \u001b[38;5;28mreversed\u001b[39m(\u001b[38;5;28mtype\u001b[39m(estimator)\u001b[38;5;241m.\u001b[39mmro()):\n\u001b[0;32m    404\u001b[0m     \u001b[38;5;28;01mif\u001b[39;00m \u001b[38;5;124m\"\u001b[39m\u001b[38;5;124m__sklearn_tags__\u001b[39m\u001b[38;5;124m\"\u001b[39m \u001b[38;5;129;01min\u001b[39;00m \u001b[38;5;28mvars\u001b[39m(klass):\n\u001b[1;32m--> 405\u001b[0m         sklearn_tags_provider[klass] \u001b[38;5;241m=\u001b[39m klass\u001b[38;5;241m.\u001b[39m__sklearn_tags__(estimator)  \u001b[38;5;66;03m# type: ignore[attr-defined]\u001b[39;00m\n\u001b[0;32m    406\u001b[0m         class_order\u001b[38;5;241m.\u001b[39mappend(klass)\n\u001b[0;32m    407\u001b[0m     \u001b[38;5;28;01melif\u001b[39;00m \u001b[38;5;124m\"\u001b[39m\u001b[38;5;124m_more_tags\u001b[39m\u001b[38;5;124m\"\u001b[39m \u001b[38;5;129;01min\u001b[39;00m \u001b[38;5;28mvars\u001b[39m(klass):\n",
      "File \u001b[1;32mc:\\Users\\Asus\\anaconda3\\Lib\\site-packages\\sklearn\\base.py:613\u001b[0m, in \u001b[0;36mRegressorMixin.__sklearn_tags__\u001b[1;34m(self)\u001b[0m\n\u001b[0;32m    612\u001b[0m \u001b[38;5;28;01mdef\u001b[39;00m \u001b[38;5;21m__sklearn_tags__\u001b[39m(\u001b[38;5;28mself\u001b[39m):\n\u001b[1;32m--> 613\u001b[0m     tags \u001b[38;5;241m=\u001b[39m \u001b[38;5;28msuper\u001b[39m()\u001b[38;5;241m.\u001b[39m__sklearn_tags__()\n\u001b[0;32m    614\u001b[0m     tags\u001b[38;5;241m.\u001b[39mestimator_type \u001b[38;5;241m=\u001b[39m \u001b[38;5;124m\"\u001b[39m\u001b[38;5;124mregressor\u001b[39m\u001b[38;5;124m\"\u001b[39m\n\u001b[0;32m    615\u001b[0m     tags\u001b[38;5;241m.\u001b[39mregressor_tags \u001b[38;5;241m=\u001b[39m RegressorTags()\n",
      "\u001b[1;31mAttributeError\u001b[0m: 'super' object has no attribute '__sklearn_tags__'"
     ]
    },
    {
     "data": {
      "text/plain": [
       "XGBRegressor(base_score=None, booster=None, callbacks=None,\n",
       "             colsample_bylevel=None, colsample_bynode=None,\n",
       "             colsample_bytree=0.8, device='cuda', early_stopping_rounds=None,\n",
       "             enable_categorical=False, eval_metric=None, feature_types=None,\n",
       "             gamma=None, grow_policy=None, importance_type=None,\n",
       "             interaction_constraints=None, learning_rate=0.05, max_bin=None,\n",
       "             max_cat_threshold=None, max_cat_to_onehot=None,\n",
       "             max_delta_step=None, max_depth=6, max_leaves=None,\n",
       "             min_child_weight=None, missing=nan, monotone_constraints=None,\n",
       "             multi_strategy=None, n_estimators=200, n_jobs=None,\n",
       "             num_parallel_tree=None, random_state=42, ...)"
      ]
     },
     "execution_count": 84,
     "metadata": {},
     "output_type": "execute_result"
    }
   ],
   "source": [
    "from xgboost import XGBRegressor\n",
    "from sklearn.metrics import r2_score\n",
    "\n",
    "# Define the parameters for the XGBRegressor\n",
    "XGB_Params = {\n",
    "    'learning_rate': 0.05,\n",
    "    'max_depth': 6,\n",
    "    'n_estimators': 200,\n",
    "    'subsample': 0.8,\n",
    "    'colsample_bytree': 0.8,\n",
    "    'reg_alpha': 1,\n",
    "    'reg_lambda': 5,\n",
    "    'random_state': 42,\n",
    "    'device': 'cuda',          \n",
    "}\n",
    "\n",
    "# Create the XGBRegressor model with the specified parameters\n",
    "model = XGBRegressor(**XGB_Params)\n",
    "\n",
    "# Fit the model to the training data\n",
    "model.fit(X_train, y_train,sample_weight=train_set[weight_cols])"
   ]
  },
  {
   "cell_type": "code",
   "execution_count": 86,
   "metadata": {},
   "outputs": [
    {
     "name": "stdout",
     "output_type": "stream",
     "text": [
      "R2 score: 0.002068\n"
     ]
    }
   ],
   "source": [
    "pred = model.predict(X_val)\n",
    "pred_inverse = ScaleY.inverse_transform(pred.reshape(-1, 1))\n",
    "r2 = r2_score(val_set[target_cols], pred_inverse, sample_weight=val_set[weight_cols])\n",
    "print(f\"R2 score: {r2:.6f}\")"
   ]
  },
  {
   "cell_type": "code",
   "execution_count": 87,
   "metadata": {},
   "outputs": [
    {
     "data": {
      "text/plain": [
       "(-1.7510874, 1.0275995)"
      ]
     },
     "execution_count": 87,
     "metadata": {},
     "output_type": "execute_result"
    }
   ],
   "source": [
    "pred_inverse.min(), pred_inverse.max()"
   ]
  },
  {
   "cell_type": "code",
   "execution_count": 88,
   "metadata": {},
   "outputs": [
    {
     "data": {
      "image/png": "[encoded data removed]",
      "text/plain": [
       "<Figure size 1000x500 with 1 Axes>"
      ]
     },
     "metadata": {},
     "output_type": "display_data"
    }
   ],
   "source": [
    "import matplotlib.pyplot as plt\n",
    "plt.figure(figsize=(10, 5))\n",
    "plt.plot(val_set[target_cols].reset_index(drop =True), label='True Values')\n",
    "plt.plot(pred_inverse, label='Predicted Values')\n",
    "plt.xlabel('Sample Index')\n",
    "plt.ylabel('Value')\n",
    "plt.title('True vs Predicted Values')\n",
    "plt.legend()\n",
    "plt.show()"
   ]
  },
  {
   "cell_type": "code",
   "execution_count": 125,
   "metadata": {},
   "outputs": [],
   "source": [
    "def validate_n_fold(model,val_set,n_folds):\n",
    "    global all_features_cols, target_cols, weight_cols, ScaleX, ScaleY\n",
    "    batch_size = len(val_set)//n_folds\n",
    "    X_val = ScaleX.transform(val_set[all_features_cols])    \n",
    "    for i in range(0, len(val_set), batch_size):\n",
    "        X_batch = X_val[i:i+batch_size]\n",
    "        val_batch = val_set[i:i+batch_size]\n",
    "        preds = model.predict(X_batch)\n",
    "        pred_inverse = ScaleY.inverse_transform(preds.reshape(-1, 1))\n",
    "        score1 = r2_score(val_batch[target_cols], pred_inverse ,sample_weight= val_batch[weight_cols])\n",
    "        print(f'Batch {i//batch_size} r2_score: {score1:.6f}')"
   ]
  },
  {
   "cell_type": "code",
   "execution_count": 126,
   "metadata": {},
   "outputs": [
    {
     "name": "stdout",
     "output_type": "stream",
     "text": [
      "Batch 0 r2_score: 0.002455\n",
      "Batch 1 r2_score: -0.012048\n",
      "Batch 2 r2_score: 0.000223\n",
      "Batch 3 r2_score: 0.006129\n",
      "Batch 4 r2_score: 0.001274\n",
      "Batch 5 r2_score: 0.007184\n",
      "Batch 6 r2_score: -0.000038\n",
      "Batch 7 r2_score: 0.011647\n",
      "Batch 8 r2_score: 0.001997\n",
      "Batch 9 r2_score: -0.002679\n",
      "Batch 10 r2_score: -4.578206\n"
     ]
    }
   ],
   "source": [
    "validate_n_fold(model, val_set, 10)"
   ]
  },
  {
   "cell_type": "markdown",
   "metadata": {},
   "source": [
    "# test with train data 8"
   ]
  },
  {
   "cell_type": "code",
   "execution_count": 127,
   "metadata": {},
   "outputs": [
    {
     "data": {
      "text/plain": [
       "['XGBoost_scaleY.pkl']"
      ]
     },
     "execution_count": 127,
     "metadata": {},
     "output_type": "execute_result"
    }
   ],
   "source": [
    "import joblib\n",
    "# save\n",
    "joblib.dump(model, \"XGBoost.pkl\") \n",
    "joblib.dump(ScaleY, \"XGBoost_scaleY.pkl\")"
   ]
  }
 ],
 "metadata": {
  "kernelspec": {
   "display_name": "base",
   "language": "python",
   "name": "python3"
  },
  "language_info": {
   "codemirror_mode": {
    "name": "ipython",
    "version": 3
   },
   "file_extension": ".py",
   "mimetype": "text/x-python",
   "name": "python",
   "nbconvert_exporter": "python",
   "pygments_lexer": "ipython3",
   "version": "3.11.7"
  }
 },
 "nbformat": 4,
 "nbformat_minor": 2
}
