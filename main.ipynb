{
 "cells": [
  {
   "cell_type": "markdown",
   "metadata": {},
   "source": [
    "# Download data"
   ]
  },
  {
   "cell_type": "code",
   "execution_count": 5,
   "metadata": {},
   "outputs": [],
   "source": [
    "import os\n",
    "import zipfile\n",
    "import kaggle\n",
    "# use kaggle api to download the data or manully download the data urself\n",
    "## ! Kaggle competitions download -c \"jane-street-real-time-market-data-forecasting\" \n",
    "\n",
    "# make the directory to be \"data/jane-street-real-time-market-data-forecasting\" and extract file there u f the code dont work do it manually\n",
    "## os.makedirs(\"data/jane-street-real-time-market-data-forecasting\", exist_ok=True) # create directory for jane-street-real-time-market-data-forecasting-housing\n",
    "## !unzip jane-street-real-time-market-data-forecasting.zip -d data/jane-street-real-time-market-data-forecasting/"
   ]
  },
  {
   "cell_type": "markdown",
   "metadata": {},
   "source": [
    "# Kaggle Competition "
   ]
  },
  {
   "cell_type": "code",
   "execution_count": 58,
   "metadata": {},
   "outputs": [],
   "source": [
    "import numpy as np\n",
    "import pandas as pd\n",
    "import polars as pl\n",
    "from sklearn.metrics import r2_score\n",
    "from tensorflow import keras\n",
    "from keras.models import Sequential\n",
    "from keras.layers import Dense\n",
    "from keras.layers import Dropout\n",
    "from keras.layers import LSTM\n",
    "from sklearn.preprocessing import MinMaxScaler\n"
   ]
  },
  {
   "cell_type": "code",
   "execution_count": 7,
   "metadata": {},
   "outputs": [],
   "source": [
    "# function for import the data .parquet to pandas dataframe\n",
    "def download_data(i): # the data have 10 partiton 0 to 9\n",
    "    file_path = f\"data/jane-street-real-time-market-data-forecasting/train.parquet/partition_id={i}/part-0.parquet\"\n",
    "    df = pd.read_parquet(file_path)\n",
    "    print(f\"import train data part {i}\")\n",
    "    return df"
   ]
  },
  {
   "cell_type": "code",
   "execution_count": 8,
   "metadata": {},
   "outputs": [
    {
     "name": "stdout",
     "output_type": "stream",
     "text": [
      "import train data part 9\n"
     ]
    }
   ],
   "source": [
    "# test/example of the import fuction\n",
    "# train0 = download_data(0)\n",
    "train9 = download_data(9) # there are just more data in the train.parquet partition 9"
   ]
  },
  {
   "cell_type": "code",
   "execution_count": 9,
   "metadata": {},
   "outputs": [],
   "source": [
    "# import test data \n",
    "file_path  = f\"data/jane-street-real-time-market-data-forecasting/test.parquet/date_id=0/part-0.parquet\"\n",
    "test = pd.read_parquet(file_path)"
   ]
  },
  {
   "cell_type": "markdown",
   "metadata": {},
   "source": [
    "# Data Preprocessing"
   ]
  },
  {
   "cell_type": "code",
   "execution_count": 10,
   "metadata": {},
   "outputs": [
    {
     "data": {
      "text/html": [
       "<div>\n",
       "<style scoped>\n",
       "    .dataframe tbody tr th:only-of-type {\n",
       "        vertical-align: middle;\n",
       "    }\n",
       "\n",
       "    .dataframe tbody tr th {\n",
       "        vertical-align: top;\n",
       "    }\n",
       "\n",
       "    .dataframe thead th {\n",
       "        text-align: right;\n",
       "    }\n",
       "</style>\n",
       "<table border=\"1\" class=\"dataframe\">\n",
       "  <thead>\n",
       "    <tr style=\"text-align: right;\">\n",
       "      <th></th>\n",
       "      <th>date_id</th>\n",
       "      <th>time_id</th>\n",
       "      <th>symbol_id</th>\n",
       "      <th>weight</th>\n",
       "      <th>feature_00</th>\n",
       "      <th>feature_01</th>\n",
       "      <th>feature_02</th>\n",
       "      <th>feature_03</th>\n",
       "      <th>feature_04</th>\n",
       "      <th>feature_05</th>\n",
       "      <th>...</th>\n",
       "      <th>feature_78</th>\n",
       "      <th>responder_0</th>\n",
       "      <th>responder_1</th>\n",
       "      <th>responder_2</th>\n",
       "      <th>responder_3</th>\n",
       "      <th>responder_4</th>\n",
       "      <th>responder_5</th>\n",
       "      <th>responder_6</th>\n",
       "      <th>responder_7</th>\n",
       "      <th>responder_8</th>\n",
       "    </tr>\n",
       "  </thead>\n",
       "  <tbody>\n",
       "    <tr>\n",
       "      <th>0</th>\n",
       "      <td>1530</td>\n",
       "      <td>0</td>\n",
       "      <td>0</td>\n",
       "      <td>3.084694</td>\n",
       "      <td>1.153571</td>\n",
       "      <td>1.563784</td>\n",
       "      <td>0.697396</td>\n",
       "      <td>0.756759</td>\n",
       "      <td>2.580965</td>\n",
       "      <td>0.171311</td>\n",
       "      <td>...</td>\n",
       "      <td>0.999516</td>\n",
       "      <td>0.417462</td>\n",
       "      <td>0.323897</td>\n",
       "      <td>0.601499</td>\n",
       "      <td>2.074103</td>\n",
       "      <td>0.746552</td>\n",
       "      <td>0.552013</td>\n",
       "      <td>3.071231</td>\n",
       "      <td>0.914794</td>\n",
       "      <td>0.997124</td>\n",
       "    </tr>\n",
       "    <tr>\n",
       "      <th>1</th>\n",
       "      <td>1530</td>\n",
       "      <td>0</td>\n",
       "      <td>1</td>\n",
       "      <td>2.232906</td>\n",
       "      <td>0.553354</td>\n",
       "      <td>1.730064</td>\n",
       "      <td>0.990195</td>\n",
       "      <td>0.611490</td>\n",
       "      <td>2.023031</td>\n",
       "      <td>0.319015</td>\n",
       "      <td>...</td>\n",
       "      <td>0.160609</td>\n",
       "      <td>-0.318671</td>\n",
       "      <td>-0.399384</td>\n",
       "      <td>-0.635306</td>\n",
       "      <td>2.092151</td>\n",
       "      <td>0.342582</td>\n",
       "      <td>0.757289</td>\n",
       "      <td>1.979042</td>\n",
       "      <td>0.967537</td>\n",
       "      <td>1.219739</td>\n",
       "    </tr>\n",
       "    <tr>\n",
       "      <th>2</th>\n",
       "      <td>1530</td>\n",
       "      <td>0</td>\n",
       "      <td>2</td>\n",
       "      <td>2.404948</td>\n",
       "      <td>1.532503</td>\n",
       "      <td>2.095852</td>\n",
       "      <td>0.919688</td>\n",
       "      <td>0.583715</td>\n",
       "      <td>2.330047</td>\n",
       "      <td>0.337096</td>\n",
       "      <td>...</td>\n",
       "      <td>-0.065761</td>\n",
       "      <td>0.200878</td>\n",
       "      <td>-0.006571</td>\n",
       "      <td>0.518870</td>\n",
       "      <td>-0.344441</td>\n",
       "      <td>0.641694</td>\n",
       "      <td>-0.646040</td>\n",
       "      <td>-0.506260</td>\n",
       "      <td>0.739797</td>\n",
       "      <td>-2.041514</td>\n",
       "    </tr>\n",
       "    <tr>\n",
       "      <th>3</th>\n",
       "      <td>1530</td>\n",
       "      <td>0</td>\n",
       "      <td>3</td>\n",
       "      <td>1.986533</td>\n",
       "      <td>0.647099</td>\n",
       "      <td>1.687460</td>\n",
       "      <td>0.569406</td>\n",
       "      <td>1.061679</td>\n",
       "      <td>2.444131</td>\n",
       "      <td>0.150487</td>\n",
       "      <td>...</td>\n",
       "      <td>0.526284</td>\n",
       "      <td>-0.349773</td>\n",
       "      <td>-0.235901</td>\n",
       "      <td>-0.428956</td>\n",
       "      <td>-1.903627</td>\n",
       "      <td>-1.214619</td>\n",
       "      <td>-0.469500</td>\n",
       "      <td>-2.590589</td>\n",
       "      <td>-0.946317</td>\n",
       "      <td>-0.390001</td>\n",
       "    </tr>\n",
       "    <tr>\n",
       "      <th>4</th>\n",
       "      <td>1530</td>\n",
       "      <td>0</td>\n",
       "      <td>4</td>\n",
       "      <td>2.742601</td>\n",
       "      <td>1.096778</td>\n",
       "      <td>1.551411</td>\n",
       "      <td>0.632113</td>\n",
       "      <td>0.368218</td>\n",
       "      <td>2.181873</td>\n",
       "      <td>0.214604</td>\n",
       "      <td>...</td>\n",
       "      <td>-0.965623</td>\n",
       "      <td>-0.373938</td>\n",
       "      <td>-0.209282</td>\n",
       "      <td>-0.095182</td>\n",
       "      <td>-1.598217</td>\n",
       "      <td>0.968505</td>\n",
       "      <td>-0.705594</td>\n",
       "      <td>-1.579623</td>\n",
       "      <td>0.954296</td>\n",
       "      <td>-1.805623</td>\n",
       "    </tr>\n",
       "  </tbody>\n",
       "</table>\n",
       "<p>5 rows × 92 columns</p>\n",
       "</div>"
      ],
      "text/plain": [
       "   date_id  time_id  symbol_id    weight  feature_00  feature_01  feature_02  \\\n",
       "0     1530        0          0  3.084694    1.153571    1.563784    0.697396   \n",
       "1     1530        0          1  2.232906    0.553354    1.730064    0.990195   \n",
       "2     1530        0          2  2.404948    1.532503    2.095852    0.919688   \n",
       "3     1530        0          3  1.986533    0.647099    1.687460    0.569406   \n",
       "4     1530        0          4  2.742601    1.096778    1.551411    0.632113   \n",
       "\n",
       "   feature_03  feature_04  feature_05  ...  feature_78  responder_0  \\\n",
       "0    0.756759    2.580965    0.171311  ...    0.999516     0.417462   \n",
       "1    0.611490    2.023031    0.319015  ...    0.160609    -0.318671   \n",
       "2    0.583715    2.330047    0.337096  ...   -0.065761     0.200878   \n",
       "3    1.061679    2.444131    0.150487  ...    0.526284    -0.349773   \n",
       "4    0.368218    2.181873    0.214604  ...   -0.965623    -0.373938   \n",
       "\n",
       "   responder_1  responder_2  responder_3  responder_4  responder_5  \\\n",
       "0     0.323897     0.601499     2.074103     0.746552     0.552013   \n",
       "1    -0.399384    -0.635306     2.092151     0.342582     0.757289   \n",
       "2    -0.006571     0.518870    -0.344441     0.641694    -0.646040   \n",
       "3    -0.235901    -0.428956    -1.903627    -1.214619    -0.469500   \n",
       "4    -0.209282    -0.095182    -1.598217     0.968505    -0.705594   \n",
       "\n",
       "   responder_6  responder_7  responder_8  \n",
       "0     3.071231     0.914794     0.997124  \n",
       "1     1.979042     0.967537     1.219739  \n",
       "2    -0.506260     0.739797    -2.041514  \n",
       "3    -2.590589    -0.946317    -0.390001  \n",
       "4    -1.579623     0.954296    -1.805623  \n",
       "\n",
       "[5 rows x 92 columns]"
      ]
     },
     "execution_count": 10,
     "metadata": {},
     "output_type": "execute_result"
    }
   ],
   "source": [
    "train9.head()"
   ]
  },
  {
   "cell_type": "code",
   "execution_count": 11,
   "metadata": {},
   "outputs": [
    {
     "data": {
      "text/html": [
       "<div>\n",
       "<style scoped>\n",
       "    .dataframe tbody tr th:only-of-type {\n",
       "        vertical-align: middle;\n",
       "    }\n",
       "\n",
       "    .dataframe tbody tr th {\n",
       "        vertical-align: top;\n",
       "    }\n",
       "\n",
       "    .dataframe thead th {\n",
       "        text-align: right;\n",
       "    }\n",
       "</style>\n",
       "<table border=\"1\" class=\"dataframe\">\n",
       "  <thead>\n",
       "    <tr style=\"text-align: right;\">\n",
       "      <th></th>\n",
       "      <th>row_id</th>\n",
       "      <th>date_id</th>\n",
       "      <th>time_id</th>\n",
       "      <th>symbol_id</th>\n",
       "      <th>weight</th>\n",
       "      <th>is_scored</th>\n",
       "      <th>feature_00</th>\n",
       "      <th>feature_01</th>\n",
       "      <th>feature_02</th>\n",
       "      <th>feature_03</th>\n",
       "      <th>...</th>\n",
       "      <th>feature_69</th>\n",
       "      <th>feature_70</th>\n",
       "      <th>feature_71</th>\n",
       "      <th>feature_72</th>\n",
       "      <th>feature_73</th>\n",
       "      <th>feature_74</th>\n",
       "      <th>feature_75</th>\n",
       "      <th>feature_76</th>\n",
       "      <th>feature_77</th>\n",
       "      <th>feature_78</th>\n",
       "    </tr>\n",
       "  </thead>\n",
       "  <tbody>\n",
       "    <tr>\n",
       "      <th>0</th>\n",
       "      <td>0</td>\n",
       "      <td>0</td>\n",
       "      <td>0</td>\n",
       "      <td>0</td>\n",
       "      <td>3.169998</td>\n",
       "      <td>True</td>\n",
       "      <td>0.0</td>\n",
       "      <td>0.0</td>\n",
       "      <td>0.0</td>\n",
       "      <td>0.0</td>\n",
       "      <td>...</td>\n",
       "      <td>-0.0</td>\n",
       "      <td>-0.0</td>\n",
       "      <td>0.0</td>\n",
       "      <td>0.0</td>\n",
       "      <td>NaN</td>\n",
       "      <td>NaN</td>\n",
       "      <td>0.0</td>\n",
       "      <td>0.0</td>\n",
       "      <td>-0.0</td>\n",
       "      <td>-0.0</td>\n",
       "    </tr>\n",
       "    <tr>\n",
       "      <th>1</th>\n",
       "      <td>1</td>\n",
       "      <td>0</td>\n",
       "      <td>0</td>\n",
       "      <td>1</td>\n",
       "      <td>2.165993</td>\n",
       "      <td>True</td>\n",
       "      <td>0.0</td>\n",
       "      <td>-0.0</td>\n",
       "      <td>0.0</td>\n",
       "      <td>0.0</td>\n",
       "      <td>...</td>\n",
       "      <td>-0.0</td>\n",
       "      <td>-0.0</td>\n",
       "      <td>0.0</td>\n",
       "      <td>-0.0</td>\n",
       "      <td>NaN</td>\n",
       "      <td>NaN</td>\n",
       "      <td>0.0</td>\n",
       "      <td>0.0</td>\n",
       "      <td>0.0</td>\n",
       "      <td>0.0</td>\n",
       "    </tr>\n",
       "    <tr>\n",
       "      <th>2</th>\n",
       "      <td>2</td>\n",
       "      <td>0</td>\n",
       "      <td>0</td>\n",
       "      <td>2</td>\n",
       "      <td>3.065550</td>\n",
       "      <td>True</td>\n",
       "      <td>0.0</td>\n",
       "      <td>-0.0</td>\n",
       "      <td>0.0</td>\n",
       "      <td>0.0</td>\n",
       "      <td>...</td>\n",
       "      <td>0.0</td>\n",
       "      <td>-0.0</td>\n",
       "      <td>0.0</td>\n",
       "      <td>0.0</td>\n",
       "      <td>NaN</td>\n",
       "      <td>NaN</td>\n",
       "      <td>0.0</td>\n",
       "      <td>0.0</td>\n",
       "      <td>-0.0</td>\n",
       "      <td>-0.0</td>\n",
       "    </tr>\n",
       "    <tr>\n",
       "      <th>3</th>\n",
       "      <td>3</td>\n",
       "      <td>0</td>\n",
       "      <td>0</td>\n",
       "      <td>3</td>\n",
       "      <td>2.698642</td>\n",
       "      <td>True</td>\n",
       "      <td>0.0</td>\n",
       "      <td>0.0</td>\n",
       "      <td>0.0</td>\n",
       "      <td>0.0</td>\n",
       "      <td>...</td>\n",
       "      <td>0.0</td>\n",
       "      <td>-0.0</td>\n",
       "      <td>0.0</td>\n",
       "      <td>0.0</td>\n",
       "      <td>NaN</td>\n",
       "      <td>NaN</td>\n",
       "      <td>0.0</td>\n",
       "      <td>0.0</td>\n",
       "      <td>-0.0</td>\n",
       "      <td>-0.0</td>\n",
       "    </tr>\n",
       "    <tr>\n",
       "      <th>4</th>\n",
       "      <td>4</td>\n",
       "      <td>0</td>\n",
       "      <td>0</td>\n",
       "      <td>4</td>\n",
       "      <td>1.803330</td>\n",
       "      <td>True</td>\n",
       "      <td>0.0</td>\n",
       "      <td>-0.0</td>\n",
       "      <td>0.0</td>\n",
       "      <td>0.0</td>\n",
       "      <td>...</td>\n",
       "      <td>-0.0</td>\n",
       "      <td>-0.0</td>\n",
       "      <td>0.0</td>\n",
       "      <td>-0.0</td>\n",
       "      <td>NaN</td>\n",
       "      <td>NaN</td>\n",
       "      <td>0.0</td>\n",
       "      <td>0.0</td>\n",
       "      <td>0.0</td>\n",
       "      <td>0.0</td>\n",
       "    </tr>\n",
       "  </tbody>\n",
       "</table>\n",
       "<p>5 rows × 85 columns</p>\n",
       "</div>"
      ],
      "text/plain": [
       "   row_id  date_id  time_id  symbol_id    weight  is_scored  feature_00  \\\n",
       "0       0        0        0          0  3.169998       True         0.0   \n",
       "1       1        0        0          1  2.165993       True         0.0   \n",
       "2       2        0        0          2  3.065550       True         0.0   \n",
       "3       3        0        0          3  2.698642       True         0.0   \n",
       "4       4        0        0          4  1.803330       True         0.0   \n",
       "\n",
       "   feature_01  feature_02  feature_03  ...  feature_69  feature_70  \\\n",
       "0         0.0         0.0         0.0  ...        -0.0        -0.0   \n",
       "1        -0.0         0.0         0.0  ...        -0.0        -0.0   \n",
       "2        -0.0         0.0         0.0  ...         0.0        -0.0   \n",
       "3         0.0         0.0         0.0  ...         0.0        -0.0   \n",
       "4        -0.0         0.0         0.0  ...        -0.0        -0.0   \n",
       "\n",
       "   feature_71  feature_72  feature_73  feature_74  feature_75  feature_76  \\\n",
       "0         0.0         0.0         NaN         NaN         0.0         0.0   \n",
       "1         0.0        -0.0         NaN         NaN         0.0         0.0   \n",
       "2         0.0         0.0         NaN         NaN         0.0         0.0   \n",
       "3         0.0         0.0         NaN         NaN         0.0         0.0   \n",
       "4         0.0        -0.0         NaN         NaN         0.0         0.0   \n",
       "\n",
       "   feature_77  feature_78  \n",
       "0        -0.0        -0.0  \n",
       "1         0.0         0.0  \n",
       "2        -0.0        -0.0  \n",
       "3        -0.0        -0.0  \n",
       "4         0.0         0.0  \n",
       "\n",
       "[5 rows x 85 columns]"
      ]
     },
     "execution_count": 11,
     "metadata": {},
     "output_type": "execute_result"
    }
   ],
   "source": [
    "#check test data\n",
    "test.head()"
   ]
  },
  {
   "cell_type": "code",
   "execution_count": null,
   "metadata": {},
   "outputs": [],
   "source": []
  },
  {
   "cell_type": "markdown",
   "metadata": {},
   "source": [
    "## Data cleaning"
   ]
  },
  {
   "cell_type": "code",
   "execution_count": 12,
   "metadata": {},
   "outputs": [
    {
     "data": {
      "text/html": [
       "<div>\n",
       "<style scoped>\n",
       "    .dataframe tbody tr th:only-of-type {\n",
       "        vertical-align: middle;\n",
       "    }\n",
       "\n",
       "    .dataframe tbody tr th {\n",
       "        vertical-align: top;\n",
       "    }\n",
       "\n",
       "    .dataframe thead th {\n",
       "        text-align: right;\n",
       "    }\n",
       "</style>\n",
       "<table border=\"1\" class=\"dataframe\">\n",
       "  <thead>\n",
       "    <tr style=\"text-align: right;\">\n",
       "      <th></th>\n",
       "      <th>date_id</th>\n",
       "      <th>time_id</th>\n",
       "    </tr>\n",
       "  </thead>\n",
       "  <tbody>\n",
       "    <tr>\n",
       "      <th>0</th>\n",
       "      <td>1530</td>\n",
       "      <td>0</td>\n",
       "    </tr>\n",
       "    <tr>\n",
       "      <th>1</th>\n",
       "      <td>1530</td>\n",
       "      <td>0</td>\n",
       "    </tr>\n",
       "    <tr>\n",
       "      <th>2</th>\n",
       "      <td>1530</td>\n",
       "      <td>0</td>\n",
       "    </tr>\n",
       "    <tr>\n",
       "      <th>3</th>\n",
       "      <td>1530</td>\n",
       "      <td>0</td>\n",
       "    </tr>\n",
       "    <tr>\n",
       "      <th>4</th>\n",
       "      <td>1530</td>\n",
       "      <td>0</td>\n",
       "    </tr>\n",
       "    <tr>\n",
       "      <th>...</th>\n",
       "      <td>...</td>\n",
       "      <td>...</td>\n",
       "    </tr>\n",
       "    <tr>\n",
       "      <th>6274571</th>\n",
       "      <td>1698</td>\n",
       "      <td>967</td>\n",
       "    </tr>\n",
       "    <tr>\n",
       "      <th>6274572</th>\n",
       "      <td>1698</td>\n",
       "      <td>967</td>\n",
       "    </tr>\n",
       "    <tr>\n",
       "      <th>6274573</th>\n",
       "      <td>1698</td>\n",
       "      <td>967</td>\n",
       "    </tr>\n",
       "    <tr>\n",
       "      <th>6274574</th>\n",
       "      <td>1698</td>\n",
       "      <td>967</td>\n",
       "    </tr>\n",
       "    <tr>\n",
       "      <th>6274575</th>\n",
       "      <td>1698</td>\n",
       "      <td>967</td>\n",
       "    </tr>\n",
       "  </tbody>\n",
       "</table>\n",
       "<p>6274576 rows × 2 columns</p>\n",
       "</div>"
      ],
      "text/plain": [
       "         date_id  time_id\n",
       "0           1530        0\n",
       "1           1530        0\n",
       "2           1530        0\n",
       "3           1530        0\n",
       "4           1530        0\n",
       "...          ...      ...\n",
       "6274571     1698      967\n",
       "6274572     1698      967\n",
       "6274573     1698      967\n",
       "6274574     1698      967\n",
       "6274575     1698      967\n",
       "\n",
       "[6274576 rows x 2 columns]"
      ]
     },
     "execution_count": 12,
     "metadata": {},
     "output_type": "execute_result"
    }
   ],
   "source": [
    "# feature selection ## select every feature except 0-4 \n",
    "feature_cols = [f\"feature_{idx:02d}\" for idx in range(79)]\n",
    "train9[feature_cols]\n",
    "\n",
    "#select target values\n",
    "target_cols = [\"responder_6\"]\n",
    "train9[target_cols]\n",
    "\n",
    "#select lag values\n",
    "time_cols = [\"date_id\",\"time_id\"]\n",
    "train9[time_cols]\n",
    "\n"
   ]
  },
  {
   "cell_type": "markdown",
   "metadata": {},
   "source": [
    "## drop the other responder column"
   ]
  },
  {
   "cell_type": "code",
   "execution_count": 13,
   "metadata": {},
   "outputs": [
    {
     "name": "stdout",
     "output_type": "stream",
     "text": [
      "<class 'pandas.core.frame.DataFrame'>\n",
      "RangeIndex: 6274576 entries, 0 to 6274575\n",
      "Data columns (total 84 columns):\n",
      " #   Column       Dtype  \n",
      "---  ------       -----  \n",
      " 0   date_id      int16  \n",
      " 1   time_id      int16  \n",
      " 2   symbol_id    int8   \n",
      " 3   weight       float32\n",
      " 4   feature_00   float32\n",
      " 5   feature_01   float32\n",
      " 6   feature_02   float32\n",
      " 7   feature_03   float32\n",
      " 8   feature_04   float32\n",
      " 9   feature_05   float32\n",
      " 10  feature_06   float32\n",
      " 11  feature_07   float32\n",
      " 12  feature_08   float32\n",
      " 13  feature_09   int8   \n",
      " 14  feature_10   int8   \n",
      " 15  feature_11   int16  \n",
      " 16  feature_12   float32\n",
      " 17  feature_13   float32\n",
      " 18  feature_14   float32\n",
      " 19  feature_15   float32\n",
      " 20  feature_16   float32\n",
      " 21  feature_17   float32\n",
      " 22  feature_18   float32\n",
      " 23  feature_19   float32\n",
      " 24  feature_20   float32\n",
      " 25  feature_21   float32\n",
      " 26  feature_22   float32\n",
      " 27  feature_23   float32\n",
      " 28  feature_24   float32\n",
      " 29  feature_25   float32\n",
      " 30  feature_26   float32\n",
      " 31  feature_27   float32\n",
      " 32  feature_28   float32\n",
      " 33  feature_29   float32\n",
      " 34  feature_30   float32\n",
      " 35  feature_31   float32\n",
      " 36  feature_32   float32\n",
      " 37  feature_33   float32\n",
      " 38  feature_34   float32\n",
      " 39  feature_35   float32\n",
      " 40  feature_36   float32\n",
      " 41  feature_37   float32\n",
      " 42  feature_38   float32\n",
      " 43  feature_39   float32\n",
      " 44  feature_40   float32\n",
      " 45  feature_41   float32\n",
      " 46  feature_42   float32\n",
      " 47  feature_43   float32\n",
      " 48  feature_44   float32\n",
      " 49  feature_45   float32\n",
      " 50  feature_46   float32\n",
      " 51  feature_47   float32\n",
      " 52  feature_48   float32\n",
      " 53  feature_49   float32\n",
      " 54  feature_50   float32\n",
      " 55  feature_51   float32\n",
      " 56  feature_52   float32\n",
      " 57  feature_53   float32\n",
      " 58  feature_54   float32\n",
      " 59  feature_55   float32\n",
      " 60  feature_56   float32\n",
      " 61  feature_57   float32\n",
      " 62  feature_58   float32\n",
      " 63  feature_59   float32\n",
      " 64  feature_60   float32\n",
      " 65  feature_61   float32\n",
      " 66  feature_62   float32\n",
      " 67  feature_63   float32\n",
      " 68  feature_64   float32\n",
      " 69  feature_65   float32\n",
      " 70  feature_66   float32\n",
      " 71  feature_67   float32\n",
      " 72  feature_68   float32\n",
      " 73  feature_69   float32\n",
      " 74  feature_70   float32\n",
      " 75  feature_71   float32\n",
      " 76  feature_72   float32\n",
      " 77  feature_73   float32\n",
      " 78  feature_74   float32\n",
      " 79  feature_75   float32\n",
      " 80  feature_76   float32\n",
      " 81  feature_77   float32\n",
      " 82  feature_78   float32\n",
      " 83  responder_6  float32\n",
      "dtypes: float32(78), int16(3), int8(3)\n",
      "memory usage: 1.9 GB\n"
     ]
    }
   ],
   "source": [
    "drop_col = [f\"responder_{idx}\"for idx in range(6)] + [f\"responder_{idx}\"for idx in range(7,9)]\n",
    "train9 = train9.drop(columns= drop_col , axis= 1, errors= 'ignore')\n",
    "train9.info()"
   ]
  },
  {
   "cell_type": "markdown",
   "metadata": {},
   "source": [
    "# split the data and transfrom them into ts "
   ]
  },
  {
   "cell_type": "code",
   "execution_count": null,
   "metadata": {},
   "outputs": [],
   "source": [
    "# create the X and Y data\n",
    "def createXY(dataset,n_past):\n",
    "    # n_past is the number of past tine data we want to use to predict the future\n",
    "    dataX = []\n",
    "    dataY = []\n",
    "    for i in range(n_past, len(dataset)):\n",
    "            dataX.append(dataset[i - n_past:i, 0:dataset.shape[1]])\n",
    "            dataY.append(dataset[i,0])\n",
    "    return np.array(dataX),np.array(dataY)"
   ]
  },
  {
   "cell_type": "code",
   "execution_count": 86,
   "metadata": {},
   "outputs": [],
   "source": [
    "## i should make the scalar transformation  outside the function\n",
    "# preprocess the data\n",
    "def preprocessdata(df, sym_id,n_past) : # sym_id is the symbol_id of the data we want to preprocess (1-30)\n",
    "    ts = df[df.symbol_id == sym_id]  \n",
    "    ts = ts.drop(\"symbol_id\",  axis = 1 , errors= \"ignore\") # drop the column sincce it useless in model trainng \n",
    "\n",
    "    # Sort the DataFrame by date_id and time_id to ensure consistent ordering\n",
    "    ts = ts.sort_values(by=['date_id', 'time_id']).reset_index(drop=True)\n",
    "\n",
    "    # Create a unique integer label in order\n",
    "    ts['label'] = range(1, len(ts) + 1)\n",
    "\n",
    "    ts.fillna(ts.mean(), inplace=True) # fill the missing value with the mean value of the column\n",
    "\n",
    "    # split the data\n",
    "    test_split=round(len(ts)*0.20)\n",
    "    ts_train = ts[:-test_split]\n",
    "    ts_test = ts[-test_split:]\n",
    "\n",
    "    scaler = MinMaxScaler()\n",
    "\n",
    "    ts_train_scaled = scaler.fit_transform(ts_train[feature_cols +target_cols])\n",
    "    ts_test_scaled = scaler.transform(ts_test[feature_cols + target_cols])\n",
    "    \n",
    "    X_train, y_train = createXY(ts_train_scaled,n_past) # create the X and Y data for training\n",
    "    X_test, y_test = createXY(ts_test_scaled,n_past) # create the X and Y data for testing\n",
    "\n",
    "    return X_train, y_train, X_test, y_test\n",
    "n_past = 1\n",
    "X1_train, y1_train, X1_test, y1_test = preprocessdata(train9, 1,n_past)\n"
   ]
  },
  {
   "cell_type": "markdown",
   "metadata": {},
   "source": [
    "# model 1 for symbol_id 1 LSTM"
   ]
  },
  {
   "cell_type": "markdown",
   "metadata": {},
   "source": [
    "## model"
   ]
  },
  {
   "cell_type": "code",
   "execution_count": 82,
   "metadata": {},
   "outputs": [],
   "source": [
    "n_past = 1\n",
    "X1_train, y1_train, X1_test, y1_test = preprocessdata(train9, 1,n_past)"
   ]
  },
  {
   "cell_type": "code",
   "execution_count": 83,
   "metadata": {},
   "outputs": [
    {
     "name": "stdout",
     "output_type": "stream",
     "text": [
      "Epoch 1/10\n"
     ]
    },
    {
     "name": "stderr",
     "output_type": "stream",
     "text": [
      "c:\\Users\\Asus\\anaconda3\\Lib\\site-packages\\keras\\src\\layers\\rnn\\rnn.py:204: UserWarning: Do not pass an `input_shape`/`input_dim` argument to a layer. When using Sequential models, prefer using an `Input(shape)` object as the first layer in the model instead.\n",
      "  super().__init__(**kwargs)\n"
     ]
    },
    {
     "name": "stdout",
     "output_type": "stream",
     "text": [
      "\u001b[1m4018/4018\u001b[0m \u001b[32m━━━━━━━━━━━━━━━━━━━━\u001b[0m\u001b[37m\u001b[0m \u001b[1m8s\u001b[0m 1ms/step - loss: 0.0095\n",
      "Epoch 2/10\n",
      "\u001b[1m4018/4018\u001b[0m \u001b[32m━━━━━━━━━━━━━━━━━━━━\u001b[0m\u001b[37m\u001b[0m \u001b[1m5s\u001b[0m 1ms/step - loss: 0.0023\n",
      "Epoch 3/10\n",
      "\u001b[1m4018/4018\u001b[0m \u001b[32m━━━━━━━━━━━━━━━━━━━━\u001b[0m\u001b[37m\u001b[0m \u001b[1m5s\u001b[0m 1ms/step - loss: 0.0022\n",
      "Epoch 4/10\n",
      "\u001b[1m4018/4018\u001b[0m \u001b[32m━━━━━━━━━━━━━━━━━━━━\u001b[0m\u001b[37m\u001b[0m \u001b[1m5s\u001b[0m 1ms/step - loss: 0.0021\n",
      "Epoch 5/10\n",
      "\u001b[1m4018/4018\u001b[0m \u001b[32m━━━━━━━━━━━━━━━━━━━━\u001b[0m\u001b[37m\u001b[0m \u001b[1m5s\u001b[0m 1ms/step - loss: 0.0020\n",
      "Epoch 6/10\n",
      "\u001b[1m4018/4018\u001b[0m \u001b[32m━━━━━━━━━━━━━━━━━━━━\u001b[0m\u001b[37m\u001b[0m \u001b[1m4s\u001b[0m 1ms/step - loss: 0.0020\n",
      "Epoch 7/10\n",
      "\u001b[1m4018/4018\u001b[0m \u001b[32m━━━━━━━━━━━━━━━━━━━━\u001b[0m\u001b[37m\u001b[0m \u001b[1m5s\u001b[0m 1ms/step - loss: 0.0020\n",
      "Epoch 8/10\n",
      "\u001b[1m4018/4018\u001b[0m \u001b[32m━━━━━━━━━━━━━━━━━━━━\u001b[0m\u001b[37m\u001b[0m \u001b[1m5s\u001b[0m 1ms/step - loss: 0.0020\n",
      "Epoch 9/10\n",
      "\u001b[1m4018/4018\u001b[0m \u001b[32m━━━━━━━━━━━━━━━━━━━━\u001b[0m\u001b[37m\u001b[0m \u001b[1m5s\u001b[0m 1ms/step - loss: 0.0020\n",
      "Epoch 10/10\n",
      "\u001b[1m4018/4018\u001b[0m \u001b[32m━━━━━━━━━━━━━━━━━━━━\u001b[0m\u001b[37m\u001b[0m \u001b[1m5s\u001b[0m 1ms/step - loss: 0.0019\n"
     ]
    },
    {
     "data": {
      "text/plain": [
       "<keras.src.callbacks.history.History at 0x12352df8750>"
      ]
     },
     "execution_count": 83,
     "metadata": {},
     "output_type": "execute_result"
    }
   ],
   "source": [
    "# Define the model architecture\n",
    "model = Sequential()\n",
    "model.add(LSTM(50, return_sequences=True, input_shape=(n_past, 80)))\n",
    "model.add(Dropout(0.2))\n",
    "model.add(LSTM(50, return_sequences=False))\n",
    "model.add(Dropout(0.2))\n",
    "model.add(Dense(1))\n",
    "\n",
    "# Generate dummy data for demonstration\n",
    "model.compile(optimizer='adam', loss='mse')\n",
    "\n",
    "# Fit the model\n",
    "model.fit(X1_train, y1_train, epochs=10)\n",
    "\n"
   ]
  },
  {
   "cell_type": "code",
   "execution_count": null,
   "metadata": {},
   "outputs": [
    {
     "name": "stdout",
     "output_type": "stream",
     "text": [
      "\u001b[1m1005/1005\u001b[0m \u001b[32m━━━━━━━━━━━━━━━━━━━━\u001b[0m\u001b[37m\u001b[0m \u001b[1m1s\u001b[0m 1ms/step\n",
      "R^2 Score: 0.9279104471206665\n"
     ]
    }
   ],
   "source": [
    "y_pred = model.predict(X1_test)\n",
    "r2 = r2_score(y1_test, y_pred)\n",
    "print(f'R^2 Score: {r2}')"
   ]
  },
  {
   "cell_type": "markdown",
   "metadata": {},
   "source": [
    "## test model with other symbol_id"
   ]
  },
  {
   "cell_type": "code",
   "execution_count": 87,
   "metadata": {},
   "outputs": [],
   "source": [
    "X2_train, y2_train, X2_test, y2_test = preprocessdata(train9, 2,n_past)"
   ]
  },
  {
   "cell_type": "code",
   "execution_count": 92,
   "metadata": {},
   "outputs": [
    {
     "name": "stdout",
     "output_type": "stream",
     "text": [
      "\u001b[1m1017/1017\u001b[0m \u001b[32m━━━━━━━━━━━━━━━━━━━━\u001b[0m\u001b[37m\u001b[0m \u001b[1m1s\u001b[0m 761us/step\n",
      "R^2 Score: 0.8445487022399902\n"
     ]
    }
   ],
   "source": [
    "y_pred = model.predict(X2_test)\n",
    "r2 = r2_score(y2_test, y_pred)\n",
    "print(f'R^2 Score: {r2}') "
   ]
  },
  {
   "cell_type": "code",
   "execution_count": 90,
   "metadata": {},
   "outputs": [],
   "source": [
    "X3_train, y3_train, X3_test, y3_test = preprocessdata(train9, 3,n_past)"
   ]
  },
  {
   "cell_type": "code",
   "execution_count": 91,
   "metadata": {},
   "outputs": [
    {
     "name": "stdout",
     "output_type": "stream",
     "text": [
      "\u001b[1m1011/1011\u001b[0m \u001b[32m━━━━━━━━━━━━━━━━━━━━\u001b[0m\u001b[37m\u001b[0m \u001b[1m1s\u001b[0m 723us/step\n",
      "R^2 Score: 0.5553086996078491\n"
     ]
    }
   ],
   "source": [
    "y_pred = model.predict(X3_test)\n",
    "r2 = r2_score(y3_test, y_pred)\n",
    "print(f'R^2 Score: {r2}') "
   ]
  },
  {
   "cell_type": "code",
   "execution_count": 94,
   "metadata": {},
   "outputs": [],
   "source": [
    "X4_train, y4_train, X4_test, y4_test = preprocessdata(train9, 4,n_past)"
   ]
  },
  {
   "cell_type": "code",
   "execution_count": 95,
   "metadata": {},
   "outputs": [
    {
     "name": "stdout",
     "output_type": "stream",
     "text": [
      "\u001b[1m944/944\u001b[0m \u001b[32m━━━━━━━━━━━━━━━━━━━━\u001b[0m\u001b[37m\u001b[0m \u001b[1m1s\u001b[0m 767us/step\n",
      "R^2 Score: -0.21234357357025146\n"
     ]
    }
   ],
   "source": [
    "y_pred = model.predict(X4_test)\n",
    "r2 = r2_score(y4_test, y_pred)\n",
    "print(f'R^2 Score: {r2}') "
   ]
  }
 ],
 "metadata": {
  "kernelspec": {
   "display_name": "base",
   "language": "python",
   "name": "python3"
  },
  "language_info": {
   "codemirror_mode": {
    "name": "ipython",
    "version": 3
   },
   "file_extension": ".py",
   "mimetype": "text/x-python",
   "name": "python",
   "nbconvert_exporter": "python",
   "pygments_lexer": "ipython3",
   "version": "3.11.7"
  }
 },
 "nbformat": 4,
 "nbformat_minor": 2
}
