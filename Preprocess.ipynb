{
 "cells": [
  {
   "cell_type": "code",
   "execution_count": 1,
   "metadata": {},
   "outputs": [],
   "source": [
    "import polars as pl\n",
    "import numpy as np"
   ]
  },
  {
   "cell_type": "code",
   "execution_count": 2,
   "metadata": {},
   "outputs": [],
   "source": [
    "# Load the data\n",
    "data0  =  pl.read_parquet(\"data/jane-street-real-time-market-data-forecasting/train.parquet/partition_id=6/part-0.parquet\")\n",
    "data1  =  pl.read_parquet('data/jane-street-real-time-market-data-forecasting/train.parquet/partition_id=7/part-0.parquet')\n",
    "data2  =  pl.read_parquet('data/jane-street-real-time-market-data-forecasting/train.parquet/partition_id=8/part-0.parquet')\n",
    "data3  =  pl.read_parquet('data/jane-street-real-time-market-data-forecasting/train.parquet/partition_id=9/part-0.parquet')"
   ]
  },
  {
   "cell_type": "code",
   "execution_count": 3,
   "metadata": {},
   "outputs": [],
   "source": [
    "train_data = pl.concat([data0, data1,data2,data3])  # 3 partitions\n",
    "del data0 ,data1, data2, data3 # free up memory"
   ]
  },
  {
   "cell_type": "code",
   "execution_count": 4,
   "metadata": {},
   "outputs": [],
   "source": [
    "train_data = train_data.with_columns([\n",
    "    pl.col(column).fill_null(pl.col(column).mean()) for column in train_data.columns\n",
    "])"
   ]
  },
  {
   "cell_type": "code",
   "execution_count": 5,
   "metadata": {},
   "outputs": [],
   "source": [
    "# define the columns\n",
    "lag_cols_original = [\"date_id\", \"symbol_id\"] + [f\"responder_{idx}\" for idx in range(9)]"
   ]
  },
  {
   "cell_type": "code",
   "execution_count": 6,
   "metadata": {},
   "outputs": [],
   "source": [
    "#new lag data\n",
    "lags = train_data.select(lag_cols_original)\n",
    "lags = lags.rename({ f\"responder_{idx}\" : f\"responder_{idx}_lag_1\" for idx in range(9)})\n",
    "\n",
    "lags = lags.with_columns((pl.col(\"date_id\") + 1).alias(\"date_id\"))\n",
    "lags = lags.group_by([\"date_id\", \"symbol_id\"], maintain_order=True).last() # pick up last record of previous date\n",
    "train_data = train_data.join(lags, on=[\"date_id\", \"symbol_id\"], how=\"left\")\n",
    "del lags ,lag_cols_original\n",
    "train_data = train_data.fill_null(0)"
   ]
  },
  {
   "cell_type": "code",
   "execution_count": 7,
   "metadata": {},
   "outputs": [],
   "source": [
    "train_data.write_parquet('data/df.parquet')"
   ]
  },
  {
   "cell_type": "code",
   "execution_count": 8,
   "metadata": {},
   "outputs": [],
   "source": [
    "num_val = 1670\n",
    "val_set = train_data.filter(pl.col(\"date_id\") >= num_val)\n",
    "val_set.write_parquet('data/validate_data.parquet')\n",
    "train_set = train_data.filter(pl.col(\"date_id\") < num_val)\n",
    "train_set.write_parquet('data/train_data.parquet')"
   ]
  },
  {
   "cell_type": "code",
   "execution_count": null,
   "metadata": {},
   "outputs": [],
   "source": []
  }
 ],
 "metadata": {
  "kernelspec": {
   "display_name": "base",
   "language": "python",
   "name": "python3"
  },
  "language_info": {
   "codemirror_mode": {
    "name": "ipython",
    "version": 3
   },
   "file_extension": ".py",
   "mimetype": "text/x-python",
   "name": "python",
   "nbconvert_exporter": "python",
   "pygments_lexer": "ipython3",
   "version": "3.11.7"
  }
 },
 "nbformat": 4,
 "nbformat_minor": 2
}
